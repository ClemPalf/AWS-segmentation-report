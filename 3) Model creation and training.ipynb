{
 "cells": [
  {
   "cell_type": "markdown",
   "id": "38f0df65",
   "metadata": {},
   "source": [
    "# 3 Model creation and training"
   ]
  },
  {
   "cell_type": "code",
   "execution_count": 1,
   "id": "4b92b4d8",
   "metadata": {},
   "outputs": [],
   "source": [
    "# import all libraries\n",
    "import os\n",
    "import time\n",
    "import numpy as np\n",
    "import pandas as pd\n",
    "import matplotlib.pyplot as plt\n",
    "import seaborn as sns\n",
    "\n",
    "import sklearn\n",
    "\n",
    "from utils import dataset_treatment"
   ]
  },
  {
   "cell_type": "markdown",
   "id": "c0631356",
   "metadata": {},
   "source": [
    "Now that we found which parts of the population are more likely to be customers of the mail-order company, it's time to build a prediction model. Each of the rows in the \"MAILOUT\" data files represents an individual that was targeted for a mailout campaign. Ideally, we should be able to use the demographic information from each individual to decide whether or not it will be worth it to include that person in the campaign.\n",
    "\n",
    "The \"MAILOUT\" data has been split into two approximately equal parts, each with almost 43 000 data rows. In this part, you can verify your model with the \"TRAIN\" partition, which includes a column, \"RESPONSE\", that states whether or not a person became a customer of the company following the campaign. In the next part, you'll need to create predictions on the \"TEST\" partition, where the \"RESPONSE\" column has been withheld."
   ]
  },
  {
   "cell_type": "markdown",
   "id": "d832a907",
   "metadata": {},
   "source": [
    "### Loading"
   ]
  },
  {
   "cell_type": "code",
   "execution_count": 15,
   "id": "0999bda2",
   "metadata": {},
   "outputs": [
    {
     "name": "stderr",
     "output_type": "stream",
     "text": [
      "/home/ec2-user/anaconda3/envs/pytorch_p36/lib/python3.6/site-packages/IPython/core/interactiveshell.py:3072: DtypeWarning: Columns (18,19) have mixed types.Specify dtype option on import or set low_memory=False.\n",
      "  interactivity=interactivity, compiler=compiler, result=result)\n"
     ]
    },
    {
     "data": {
      "text/html": [
       "<div>\n",
       "<style scoped>\n",
       "    .dataframe tbody tr th:only-of-type {\n",
       "        vertical-align: middle;\n",
       "    }\n",
       "\n",
       "    .dataframe tbody tr th {\n",
       "        vertical-align: top;\n",
       "    }\n",
       "\n",
       "    .dataframe thead th {\n",
       "        text-align: right;\n",
       "    }\n",
       "</style>\n",
       "<table border=\"1\" class=\"dataframe\">\n",
       "  <thead>\n",
       "    <tr style=\"text-align: right;\">\n",
       "      <th></th>\n",
       "      <th>LNR</th>\n",
       "      <th>AGER_TYP</th>\n",
       "      <th>AKT_DAT_KL</th>\n",
       "      <th>ALTER_HH</th>\n",
       "      <th>ALTER_KIND1</th>\n",
       "      <th>ALTER_KIND2</th>\n",
       "      <th>ALTER_KIND3</th>\n",
       "      <th>ALTER_KIND4</th>\n",
       "      <th>ALTERSKATEGORIE_FEIN</th>\n",
       "      <th>ANZ_HAUSHALTE_AKTIV</th>\n",
       "      <th>...</th>\n",
       "      <th>VK_DHT4A</th>\n",
       "      <th>VK_DISTANZ</th>\n",
       "      <th>VK_ZG11</th>\n",
       "      <th>W_KEIT_KIND_HH</th>\n",
       "      <th>WOHNDAUER_2008</th>\n",
       "      <th>WOHNLAGE</th>\n",
       "      <th>ZABEOTYP</th>\n",
       "      <th>RESPONSE</th>\n",
       "      <th>ANREDE_KZ</th>\n",
       "      <th>ALTERSKATEGORIE_GROB</th>\n",
       "    </tr>\n",
       "  </thead>\n",
       "  <tbody>\n",
       "    <tr>\n",
       "      <th>0</th>\n",
       "      <td>1763</td>\n",
       "      <td>2</td>\n",
       "      <td>1.0</td>\n",
       "      <td>8.0</td>\n",
       "      <td>NaN</td>\n",
       "      <td>NaN</td>\n",
       "      <td>NaN</td>\n",
       "      <td>NaN</td>\n",
       "      <td>8.0</td>\n",
       "      <td>15.0</td>\n",
       "      <td>...</td>\n",
       "      <td>5.0</td>\n",
       "      <td>2.0</td>\n",
       "      <td>1.0</td>\n",
       "      <td>6.0</td>\n",
       "      <td>9.0</td>\n",
       "      <td>3.0</td>\n",
       "      <td>3</td>\n",
       "      <td>0</td>\n",
       "      <td>2</td>\n",
       "      <td>4</td>\n",
       "    </tr>\n",
       "    <tr>\n",
       "      <th>1</th>\n",
       "      <td>1771</td>\n",
       "      <td>1</td>\n",
       "      <td>4.0</td>\n",
       "      <td>13.0</td>\n",
       "      <td>NaN</td>\n",
       "      <td>NaN</td>\n",
       "      <td>NaN</td>\n",
       "      <td>NaN</td>\n",
       "      <td>13.0</td>\n",
       "      <td>1.0</td>\n",
       "      <td>...</td>\n",
       "      <td>1.0</td>\n",
       "      <td>2.0</td>\n",
       "      <td>1.0</td>\n",
       "      <td>4.0</td>\n",
       "      <td>9.0</td>\n",
       "      <td>7.0</td>\n",
       "      <td>1</td>\n",
       "      <td>0</td>\n",
       "      <td>2</td>\n",
       "      <td>3</td>\n",
       "    </tr>\n",
       "    <tr>\n",
       "      <th>2</th>\n",
       "      <td>1776</td>\n",
       "      <td>1</td>\n",
       "      <td>1.0</td>\n",
       "      <td>9.0</td>\n",
       "      <td>NaN</td>\n",
       "      <td>NaN</td>\n",
       "      <td>NaN</td>\n",
       "      <td>NaN</td>\n",
       "      <td>7.0</td>\n",
       "      <td>0.0</td>\n",
       "      <td>...</td>\n",
       "      <td>6.0</td>\n",
       "      <td>4.0</td>\n",
       "      <td>2.0</td>\n",
       "      <td>NaN</td>\n",
       "      <td>9.0</td>\n",
       "      <td>2.0</td>\n",
       "      <td>3</td>\n",
       "      <td>0</td>\n",
       "      <td>1</td>\n",
       "      <td>4</td>\n",
       "    </tr>\n",
       "    <tr>\n",
       "      <th>3</th>\n",
       "      <td>1460</td>\n",
       "      <td>2</td>\n",
       "      <td>1.0</td>\n",
       "      <td>6.0</td>\n",
       "      <td>NaN</td>\n",
       "      <td>NaN</td>\n",
       "      <td>NaN</td>\n",
       "      <td>NaN</td>\n",
       "      <td>6.0</td>\n",
       "      <td>4.0</td>\n",
       "      <td>...</td>\n",
       "      <td>8.0</td>\n",
       "      <td>11.0</td>\n",
       "      <td>11.0</td>\n",
       "      <td>6.0</td>\n",
       "      <td>9.0</td>\n",
       "      <td>1.0</td>\n",
       "      <td>3</td>\n",
       "      <td>0</td>\n",
       "      <td>2</td>\n",
       "      <td>4</td>\n",
       "    </tr>\n",
       "    <tr>\n",
       "      <th>4</th>\n",
       "      <td>1783</td>\n",
       "      <td>2</td>\n",
       "      <td>1.0</td>\n",
       "      <td>9.0</td>\n",
       "      <td>NaN</td>\n",
       "      <td>NaN</td>\n",
       "      <td>NaN</td>\n",
       "      <td>NaN</td>\n",
       "      <td>9.0</td>\n",
       "      <td>53.0</td>\n",
       "      <td>...</td>\n",
       "      <td>2.0</td>\n",
       "      <td>2.0</td>\n",
       "      <td>1.0</td>\n",
       "      <td>6.0</td>\n",
       "      <td>9.0</td>\n",
       "      <td>3.0</td>\n",
       "      <td>3</td>\n",
       "      <td>0</td>\n",
       "      <td>1</td>\n",
       "      <td>3</td>\n",
       "    </tr>\n",
       "  </tbody>\n",
       "</table>\n",
       "<p>5 rows × 367 columns</p>\n",
       "</div>"
      ],
      "text/plain": [
       "    LNR  AGER_TYP  AKT_DAT_KL  ALTER_HH  ALTER_KIND1  ALTER_KIND2  \\\n",
       "0  1763         2         1.0       8.0          NaN          NaN   \n",
       "1  1771         1         4.0      13.0          NaN          NaN   \n",
       "2  1776         1         1.0       9.0          NaN          NaN   \n",
       "3  1460         2         1.0       6.0          NaN          NaN   \n",
       "4  1783         2         1.0       9.0          NaN          NaN   \n",
       "\n",
       "   ALTER_KIND3  ALTER_KIND4  ALTERSKATEGORIE_FEIN  ANZ_HAUSHALTE_AKTIV  ...  \\\n",
       "0          NaN          NaN                   8.0                 15.0  ...   \n",
       "1          NaN          NaN                  13.0                  1.0  ...   \n",
       "2          NaN          NaN                   7.0                  0.0  ...   \n",
       "3          NaN          NaN                   6.0                  4.0  ...   \n",
       "4          NaN          NaN                   9.0                 53.0  ...   \n",
       "\n",
       "   VK_DHT4A  VK_DISTANZ  VK_ZG11  W_KEIT_KIND_HH  WOHNDAUER_2008  WOHNLAGE  \\\n",
       "0       5.0         2.0      1.0             6.0             9.0       3.0   \n",
       "1       1.0         2.0      1.0             4.0             9.0       7.0   \n",
       "2       6.0         4.0      2.0             NaN             9.0       2.0   \n",
       "3       8.0        11.0     11.0             6.0             9.0       1.0   \n",
       "4       2.0         2.0      1.0             6.0             9.0       3.0   \n",
       "\n",
       "   ZABEOTYP RESPONSE ANREDE_KZ ALTERSKATEGORIE_GROB  \n",
       "0         3        0         2                    4  \n",
       "1         1        0         2                    3  \n",
       "2         3        0         1                    4  \n",
       "3         3        0         2                    4  \n",
       "4         3        0         1                    3  \n",
       "\n",
       "[5 rows x 367 columns]"
      ]
     },
     "execution_count": 15,
     "metadata": {},
     "output_type": "execute_result"
    }
   ],
   "source": [
    "azdias = pd.read_csv('data/Udacity_AZDIAS_052018.csv', sep=';') # We load azdias only to facilitate the cleaning\n",
    "mailout_data = pd.read_csv('data/Udacity_MAILOUT_052018_TRAIN.csv', sep=';')"
   ]
  },
  {
   "cell_type": "code",
   "execution_count": 20,
   "id": "d1dfb065",
   "metadata": {},
   "outputs": [
    {
     "name": "stdout",
     "output_type": "stream",
     "text": [
      "0    42430\n",
      "1      532\n",
      "Name: RESPONSE, dtype: int64\n"
     ]
    }
   ],
   "source": [
    "print(mailout_data.RESPONSE.value_counts())"
   ]
  },
  {
   "cell_type": "code",
   "execution_count": 17,
   "id": "cb779890",
   "metadata": {},
   "outputs": [
    {
     "name": "stderr",
     "output_type": "stream",
     "text": [
      "/home/ec2-user/anaconda3/envs/pytorch_p36/lib/python3.6/site-packages/seaborn/_decorators.py:43: FutureWarning: Pass the following variable as a keyword arg: x. From version 0.12, the only valid positional argument will be `data`, and passing other arguments without an explicit keyword will result in an error or misinterpretation.\n",
      "  FutureWarning\n"
     ]
    },
    {
     "data": {
      "text/plain": [
       "<AxesSubplot:xlabel='RESPONSE', ylabel='count'>"
      ]
     },
     "execution_count": 17,
     "metadata": {},
     "output_type": "execute_result"
    },
    {
     "data": {
      "image/png": "[encoded data removed]",
      "text/plain": [
       "<Figure size 432x288 with 1 Axes>"
      ]
     },
     "metadata": {
      "needs_background": "light"
     },
     "output_type": "display_data"
    }
   ],
   "source": [
    "sns.countplot(\"RESPONSE\", data=mailout_data)"
   ]
  },
  {
   "cell_type": "markdown",
   "id": "7e539838",
   "metadata": {},
   "source": [
    "As we can see the data is highly imbalanced. 98.7% (42430/(42430+532) X 100) of the training examples are labelled as \"0\" or \"not responsive\". This will need to be accounted for.  \n",
    "First, let's clean our dataset and split the labels from the features."
   ]
  },
  {
   "cell_type": "markdown",
   "id": "4cc42d02",
   "metadata": {},
   "source": [
    "### Splitting and cleaning"
   ]
  },
  {
   "cell_type": "code",
   "execution_count": 21,
   "id": "ffb70f76",
   "metadata": {},
   "outputs": [],
   "source": [
    "Y = pd.DataFrame(mailout_data[\"RESPONSE\"])\n",
    "del mailout_data[\"RESPONSE\"]"
   ]
  },
  {
   "cell_type": "code",
   "execution_count": 22,
   "id": "ca99a8ea",
   "metadata": {},
   "outputs": [
    {
     "name": "stdout",
     "output_type": "stream",
     "text": [
      "Deleting columns...\n",
      "Deleting rows...\n",
      "Encoding...\n"
     ]
    }
   ],
   "source": [
    "azidias, X = dataset_treatment(azdias, mailout_data, cust=False)\n",
    "azidias = None # Clear space"
   ]
  },
  {
   "cell_type": "code",
   "execution_count": 23,
   "id": "b4f95887",
   "metadata": {},
   "outputs": [
    {
     "data": {
      "text/html": [
       "<div>\n",
       "<style scoped>\n",
       "    .dataframe tbody tr th:only-of-type {\n",
       "        vertical-align: middle;\n",
       "    }\n",
       "\n",
       "    .dataframe tbody tr th {\n",
       "        vertical-align: top;\n",
       "    }\n",
       "\n",
       "    .dataframe thead th {\n",
       "        text-align: right;\n",
       "    }\n",
       "</style>\n",
       "<table border=\"1\" class=\"dataframe\">\n",
       "  <thead>\n",
       "    <tr style=\"text-align: right;\">\n",
       "      <th></th>\n",
       "      <th>AKT_DAT_KL</th>\n",
       "      <th>ALTER_HH</th>\n",
       "      <th>ALTERSKATEGORIE_FEIN</th>\n",
       "      <th>ANZ_HAUSHALTE_AKTIV</th>\n",
       "      <th>ANZ_HH_TITEL</th>\n",
       "      <th>ANZ_KINDER</th>\n",
       "      <th>ANZ_PERSONEN</th>\n",
       "      <th>ANZ_STATISTISCHE_HAUSHALTE</th>\n",
       "      <th>ANZ_TITEL</th>\n",
       "      <th>ARBEIT</th>\n",
       "      <th>...</th>\n",
       "      <th>VHN</th>\n",
       "      <th>VK_DHT4A</th>\n",
       "      <th>VK_DISTANZ</th>\n",
       "      <th>VK_ZG11</th>\n",
       "      <th>W_KEIT_KIND_HH</th>\n",
       "      <th>WOHNDAUER_2008</th>\n",
       "      <th>WOHNLAGE</th>\n",
       "      <th>ZABEOTYP</th>\n",
       "      <th>ANREDE_KZ</th>\n",
       "      <th>ALTERSKATEGORIE_GROB</th>\n",
       "    </tr>\n",
       "  </thead>\n",
       "  <tbody>\n",
       "    <tr>\n",
       "      <th>0</th>\n",
       "      <td>-0.934331</td>\n",
       "      <td>-0.380285</td>\n",
       "      <td>-1.320001</td>\n",
       "      <td>0.451529</td>\n",
       "      <td>-0.125303</td>\n",
       "      <td>-0.299061</td>\n",
       "      <td>-0.634469</td>\n",
       "      <td>0.408856</td>\n",
       "      <td>-0.06066</td>\n",
       "      <td>-0.183295</td>\n",
       "      <td>...</td>\n",
       "      <td>-0.355045</td>\n",
       "      <td>-0.356180</td>\n",
       "      <td>-1.698063</td>\n",
       "      <td>-1.764638</td>\n",
       "      <td>0.952074</td>\n",
       "      <td>0.547826</td>\n",
       "      <td>-0.555878</td>\n",
       "      <td>-0.279664</td>\n",
       "      <td>0.958448</td>\n",
       "      <td>1.093087</td>\n",
       "    </tr>\n",
       "    <tr>\n",
       "      <th>1</th>\n",
       "      <td>-0.110613</td>\n",
       "      <td>0.276209</td>\n",
       "      <td>-0.212013</td>\n",
       "      <td>-0.474979</td>\n",
       "      <td>-0.125303</td>\n",
       "      <td>-0.299061</td>\n",
       "      <td>0.224688</td>\n",
       "      <td>-0.472535</td>\n",
       "      <td>-0.06066</td>\n",
       "      <td>-1.187413</td>\n",
       "      <td>...</td>\n",
       "      <td>0.510398</td>\n",
       "      <td>-1.757682</td>\n",
       "      <td>-1.698063</td>\n",
       "      <td>-1.764638</td>\n",
       "      <td>-0.181123</td>\n",
       "      <td>0.547826</td>\n",
       "      <td>1.553315</td>\n",
       "      <td>-1.700552</td>\n",
       "      <td>0.958448</td>\n",
       "      <td>0.168026</td>\n",
       "    </tr>\n",
       "    <tr>\n",
       "      <th>2</th>\n",
       "      <td>-0.934331</td>\n",
       "      <td>-0.248986</td>\n",
       "      <td>-1.541598</td>\n",
       "      <td>-0.541158</td>\n",
       "      <td>-0.125303</td>\n",
       "      <td>-0.299061</td>\n",
       "      <td>-1.493626</td>\n",
       "      <td>-0.472535</td>\n",
       "      <td>-0.06066</td>\n",
       "      <td>0.820823</td>\n",
       "      <td>...</td>\n",
       "      <td>-1.220488</td>\n",
       "      <td>-0.005804</td>\n",
       "      <td>-1.084069</td>\n",
       "      <td>-1.406915</td>\n",
       "      <td>0.952074</td>\n",
       "      <td>0.547826</td>\n",
       "      <td>-1.083176</td>\n",
       "      <td>-0.279664</td>\n",
       "      <td>-1.043354</td>\n",
       "      <td>1.093087</td>\n",
       "    </tr>\n",
       "    <tr>\n",
       "      <th>3</th>\n",
       "      <td>-0.934331</td>\n",
       "      <td>-0.642882</td>\n",
       "      <td>-1.763196</td>\n",
       "      <td>-0.276441</td>\n",
       "      <td>-0.125303</td>\n",
       "      <td>-0.299061</td>\n",
       "      <td>0.224688</td>\n",
       "      <td>-0.252188</td>\n",
       "      <td>-0.06066</td>\n",
       "      <td>0.820823</td>\n",
       "      <td>...</td>\n",
       "      <td>1.375841</td>\n",
       "      <td>0.694947</td>\n",
       "      <td>1.064908</td>\n",
       "      <td>1.812596</td>\n",
       "      <td>0.952074</td>\n",
       "      <td>0.547826</td>\n",
       "      <td>-1.610474</td>\n",
       "      <td>-0.279664</td>\n",
       "      <td>0.958448</td>\n",
       "      <td>1.093087</td>\n",
       "    </tr>\n",
       "    <tr>\n",
       "      <th>4</th>\n",
       "      <td>-0.934331</td>\n",
       "      <td>-0.248986</td>\n",
       "      <td>-1.098403</td>\n",
       "      <td>2.966336</td>\n",
       "      <td>-0.125303</td>\n",
       "      <td>-0.299061</td>\n",
       "      <td>-0.634469</td>\n",
       "      <td>2.685783</td>\n",
       "      <td>-0.06066</td>\n",
       "      <td>-0.183295</td>\n",
       "      <td>...</td>\n",
       "      <td>1.375841</td>\n",
       "      <td>-1.407306</td>\n",
       "      <td>-1.698063</td>\n",
       "      <td>-1.764638</td>\n",
       "      <td>0.952074</td>\n",
       "      <td>0.547826</td>\n",
       "      <td>-0.555878</td>\n",
       "      <td>-0.279664</td>\n",
       "      <td>-1.043354</td>\n",
       "      <td>0.168026</td>\n",
       "    </tr>\n",
       "  </tbody>\n",
       "</table>\n",
       "<p>5 rows × 354 columns</p>\n",
       "</div>"
      ],
      "text/plain": [
       "   AKT_DAT_KL  ALTER_HH  ALTERSKATEGORIE_FEIN  ANZ_HAUSHALTE_AKTIV  \\\n",
       "0   -0.934331 -0.380285             -1.320001             0.451529   \n",
       "1   -0.110613  0.276209             -0.212013            -0.474979   \n",
       "2   -0.934331 -0.248986             -1.541598            -0.541158   \n",
       "3   -0.934331 -0.642882             -1.763196            -0.276441   \n",
       "4   -0.934331 -0.248986             -1.098403             2.966336   \n",
       "\n",
       "   ANZ_HH_TITEL  ANZ_KINDER  ANZ_PERSONEN  ANZ_STATISTISCHE_HAUSHALTE  \\\n",
       "0     -0.125303   -0.299061     -0.634469                    0.408856   \n",
       "1     -0.125303   -0.299061      0.224688                   -0.472535   \n",
       "2     -0.125303   -0.299061     -1.493626                   -0.472535   \n",
       "3     -0.125303   -0.299061      0.224688                   -0.252188   \n",
       "4     -0.125303   -0.299061     -0.634469                    2.685783   \n",
       "\n",
       "   ANZ_TITEL    ARBEIT  ...       VHN  VK_DHT4A  VK_DISTANZ   VK_ZG11  \\\n",
       "0   -0.06066 -0.183295  ... -0.355045 -0.356180   -1.698063 -1.764638   \n",
       "1   -0.06066 -1.187413  ...  0.510398 -1.757682   -1.698063 -1.764638   \n",
       "2   -0.06066  0.820823  ... -1.220488 -0.005804   -1.084069 -1.406915   \n",
       "3   -0.06066  0.820823  ...  1.375841  0.694947    1.064908  1.812596   \n",
       "4   -0.06066 -0.183295  ...  1.375841 -1.407306   -1.698063 -1.764638   \n",
       "\n",
       "   W_KEIT_KIND_HH  WOHNDAUER_2008  WOHNLAGE  ZABEOTYP  ANREDE_KZ  \\\n",
       "0        0.952074        0.547826 -0.555878 -0.279664   0.958448   \n",
       "1       -0.181123        0.547826  1.553315 -1.700552   0.958448   \n",
       "2        0.952074        0.547826 -1.083176 -0.279664  -1.043354   \n",
       "3        0.952074        0.547826 -1.610474 -0.279664   0.958448   \n",
       "4        0.952074        0.547826 -0.555878 -0.279664  -1.043354   \n",
       "\n",
       "   ALTERSKATEGORIE_GROB  \n",
       "0              1.093087  \n",
       "1              0.168026  \n",
       "2              1.093087  \n",
       "3              1.093087  \n",
       "4              0.168026  \n",
       "\n",
       "[5 rows x 354 columns]"
      ]
     },
     "execution_count": 23,
     "metadata": {},
     "output_type": "execute_result"
    }
   ],
   "source": [
    "X.head()"
   ]
  },
  {
   "cell_type": "code",
   "execution_count": 26,
   "id": "3609f02c",
   "metadata": {},
   "outputs": [
    {
     "data": {
      "text/plain": [
       "0    0\n",
       "1    0\n",
       "2    0\n",
       "3    0\n",
       "4    0\n",
       "Name: RESPONSE, dtype: int64"
      ]
     },
     "execution_count": 26,
     "metadata": {},
     "output_type": "execute_result"
    }
   ],
   "source": [
    "Y.head()"
   ]
  },
  {
   "cell_type": "code",
   "execution_count": null,
   "id": "5f4f3cd0",
   "metadata": {},
   "outputs": [],
   "source": [
    "# Let's split our dataset into 80% training and 20% validation.\n",
    "X_train, X_val, Y_train, Y_val = sklearn.model_selection.train_test_split(X, Y, test_size=0.2)"
   ]
  },
  {
   "cell_type": "markdown",
   "id": "09696a1a",
   "metadata": {},
   "source": [
    "### Save the data locally \n",
    "We will use pandas to save our train and validation data to csv files. Note that we make sure not to include header information or an index as this is required by the built in algorithms provided by Amazon. Also, for the train and validation data, it is assumed that the first entry in each row is the target variable."
   ]
  },
  {
   "cell_type": "code",
   "execution_count": null,
   "id": "45abe83c",
   "metadata": {},
   "outputs": [],
   "source": []
  },
  {
   "cell_type": "code",
   "execution_count": null,
   "id": "cbaf5a52",
   "metadata": {},
   "outputs": [],
   "source": []
  },
  {
   "cell_type": "code",
   "execution_count": null,
   "id": "5672fff1",
   "metadata": {},
   "outputs": [],
   "source": []
  },
  {
   "cell_type": "code",
   "execution_count": null,
   "id": "fc0cfb5e",
   "metadata": {},
   "outputs": [],
   "source": []
  },
  {
   "cell_type": "code",
   "execution_count": null,
   "id": "ac060474",
   "metadata": {},
   "outputs": [],
   "source": []
  },
  {
   "cell_type": "code",
   "execution_count": null,
   "id": "6cc769d2",
   "metadata": {},
   "outputs": [],
   "source": []
  },
  {
   "cell_type": "code",
   "execution_count": null,
   "id": "12f08fac",
   "metadata": {},
   "outputs": [],
   "source": []
  }
 ],
 "metadata": {
  "kernelspec": {
   "display_name": "conda_pytorch_p36",
   "language": "python",
   "name": "conda_pytorch_p36"
  },
  "language_info": {
   "codemirror_mode": {
    "name": "ipython",
    "version": 3
   },
   "file_extension": ".py",
   "mimetype": "text/x-python",
   "name": "python",
   "nbconvert_exporter": "python",
   "pygments_lexer": "ipython3",
   "version": "3.6.13"
  }
 },
 "nbformat": 4,
 "nbformat_minor": 5
}
