{
 "cells": [
  {
   "cell_type": "markdown",
   "id": "4bbd3019",
   "metadata": {},
   "source": [
    "# 3 Model creation and training"
   ]
  },
  {
   "cell_type": "code",
   "execution_count": 31,
   "id": "0e91e66b",
   "metadata": {},
   "outputs": [],
   "source": [
    "# import all libraries\n",
    "import os\n",
    "import time\n",
    "import numpy as np\n",
    "import pandas as pd\n",
    "import matplotlib.pyplot as plt\n",
    "import seaborn as sns\n",
    "\n",
    "import sklearn\n",
    "from sklearn.linear_model import LogisticRegression\n",
    "from sklearn.metrics import accuracy_score, roc_auc_score, confusion_matrix\n",
    "\n",
    "import sagemaker\n",
    "from sagemaker import get_execution_role\n",
    "from sagemaker.image_uris import retrieve\n",
    "from sagemaker.predictor import csv_serializer\n",
    "from sagemaker.tuner import IntegerParameter, ContinuousParameter, HyperparameterTuner\n",
    "from sagemaker.inputs import TrainingInput\n",
    "\n",
    "from utils import dataset_treatment"
   ]
  },
  {
   "cell_type": "markdown",
   "id": "b57aa205",
   "metadata": {},
   "source": [
    "Now that we found which parts of the population are more likely to be customers of the mail-order company, it's time to build a prediction model. Each of the rows in the \"MAILOUT\" data files represents an individual that was targeted for a mailout campaign. Ideally, we should be able to use the demographic information from each individual to decide whether or not it will be worth it to include that person in the campaign.\n",
    "\n",
    "The \"MAILOUT\" data has been split into two approximately equal parts, each with almost 43 000 data rows. In this part, you can verify your model with the \"TRAIN\" partition, which includes a column, \"RESPONSE\", that states whether or not a person became a customer of the company following the campaign. In the next part, you'll need to create predictions on the \"TEST\" partition, where the \"RESPONSE\" column has been withheld."
   ]
  },
  {
   "cell_type": "markdown",
   "id": "d3d766af",
   "metadata": {},
   "source": [
    "### Loading"
   ]
  },
  {
   "cell_type": "code",
   "execution_count": 3,
   "id": "c24edaf7",
   "metadata": {},
   "outputs": [
    {
     "name": "stderr",
     "output_type": "stream",
     "text": [
      "/home/ec2-user/anaconda3/envs/pytorch_p36/lib/python3.6/site-packages/IPython/core/interactiveshell.py:3072: DtypeWarning: Columns (18,19) have mixed types.Specify dtype option on import or set low_memory=False.\n",
      "  interactivity=interactivity, compiler=compiler, result=result)\n"
     ]
    }
   ],
   "source": [
    "azdias = pd.read_csv('data/Udacity_AZDIAS_052018.csv', sep=';') # We load azdias only to facilitate the cleaning\n",
    "mailout_data = pd.read_csv('data/Udacity_MAILOUT_052018_TRAIN.csv', sep=';')"
   ]
  },
  {
   "cell_type": "code",
   "execution_count": 4,
   "id": "b402b6a0",
   "metadata": {},
   "outputs": [
    {
     "name": "stdout",
     "output_type": "stream",
     "text": [
      "0    42430\n",
      "1      532\n",
      "Name: RESPONSE, dtype: int64\n"
     ]
    }
   ],
   "source": [
    "print(mailout_data.RESPONSE.value_counts())"
   ]
  },
  {
   "cell_type": "code",
   "execution_count": 5,
   "id": "7391b70c",
   "metadata": {},
   "outputs": [
    {
     "name": "stderr",
     "output_type": "stream",
     "text": [
      "/home/ec2-user/anaconda3/envs/pytorch_p36/lib/python3.6/site-packages/seaborn/_decorators.py:43: FutureWarning: Pass the following variable as a keyword arg: x. From version 0.12, the only valid positional argument will be `data`, and passing other arguments without an explicit keyword will result in an error or misinterpretation.\n",
      "  FutureWarning\n"
     ]
    },
    {
     "data": {
      "text/plain": [
       "<AxesSubplot:xlabel='RESPONSE', ylabel='count'>"
      ]
     },
     "execution_count": 5,
     "metadata": {},
     "output_type": "execute_result"
    },
    {
     "data": {
      "image/png": "[encoded data removed]",
      "text/plain": [
       "<Figure size 432x288 with 1 Axes>"
      ]
     },
     "metadata": {
      "needs_background": "light"
     },
     "output_type": "display_data"
    }
   ],
   "source": [
    "sns.countplot(\"RESPONSE\", data=mailout_data)"
   ]
  },
  {
   "cell_type": "markdown",
   "id": "e807bdec",
   "metadata": {},
   "source": [
    "As we can see the data is highly imbalanced. 98.7% (42430/(42430+532) X 100) of the training examples are labelled as \"0\" or \"not responsive\". This will need to be accounted for.  \n",
    "First, let's clean our dataset and split the labels from the features."
   ]
  },
  {
   "cell_type": "markdown",
   "id": "4dea02b5",
   "metadata": {},
   "source": [
    "### Splitting and cleaning"
   ]
  },
  {
   "cell_type": "code",
   "execution_count": 6,
   "id": "9f5f3889",
   "metadata": {},
   "outputs": [
    {
     "name": "stdout",
     "output_type": "stream",
     "text": [
      "Deleting columns...\n",
      "Deleting rows...\n",
      "Encoding...\n"
     ]
    }
   ],
   "source": [
    "azidias, mailout_data = dataset_treatment(azdias, mailout_data, cust=False)\n",
    "azidias = None # Clear space"
   ]
  },
  {
   "cell_type": "code",
   "execution_count": 7,
   "id": "235ea18d",
   "metadata": {},
   "outputs": [],
   "source": [
    "Y = pd.DataFrame(mailout_data[\"RESPONSE\"])\n",
    "del mailout_data[\"RESPONSE\"]"
   ]
  },
  {
   "cell_type": "code",
   "execution_count": 8,
   "id": "53814713",
   "metadata": {},
   "outputs": [
    {
     "data": {
      "text/plain": [
       "(33837, 354)"
      ]
     },
     "execution_count": 8,
     "metadata": {},
     "output_type": "execute_result"
    }
   ],
   "source": [
    "mailout_data.shape"
   ]
  },
  {
   "cell_type": "code",
   "execution_count": 9,
   "id": "2e45b11b",
   "metadata": {},
   "outputs": [
    {
     "data": {
      "text/plain": [
       "(33837, 1)"
      ]
     },
     "execution_count": 9,
     "metadata": {},
     "output_type": "execute_result"
    }
   ],
   "source": [
    "Y.shape"
   ]
  },
  {
   "cell_type": "code",
   "execution_count": 10,
   "id": "7b5d9d29",
   "metadata": {},
   "outputs": [],
   "source": [
    "# Let's split our dataset into 80% training and 20% validation.\n",
    "X_train, X_val, Y_train, Y_val = sklearn.model_selection.train_test_split(mailout_data, Y, test_size=0.2)"
   ]
  },
  {
   "cell_type": "markdown",
   "id": "90fe8dd9",
   "metadata": {},
   "source": [
    "### Save the data locally \n",
    "Now, let's save our train and validation data to csv files. Note that we make sure not to include header information or an index as this is required by the built in algorithms provided by Amazon. Also, for the train and validation data, it is assumed that the first entry in each row is the target variable."
   ]
  },
  {
   "cell_type": "code",
   "execution_count": 11,
   "id": "5630271e",
   "metadata": {},
   "outputs": [],
   "source": [
    "data_dir = \"data_model\"\n",
    "\n",
    "pd.concat([Y_val, X_val], axis=1).to_csv(os.path.join(data_dir, 'validation.csv'), header=False, index=False)\n",
    "pd.concat([Y_train, X_train], axis=1).to_csv(os.path.join(data_dir, 'train.csv'), header=False, index=False)"
   ]
  },
  {
   "cell_type": "markdown",
   "id": "8c6a2f02",
   "metadata": {},
   "source": [
    "### Upload to S3 \n",
    "Since we are currently running inside of a SageMaker session, we can use the object which represents this session to upload our data to the 'default' S3 bucket."
   ]
  },
  {
   "cell_type": "code",
   "execution_count": 12,
   "id": "9bc3121a",
   "metadata": {},
   "outputs": [],
   "source": [
    "# Get the session and role\n",
    "session = sagemaker.Session() \n",
    "role = get_execution_role()"
   ]
  },
  {
   "cell_type": "code",
   "execution_count": 13,
   "id": "adfed79c",
   "metadata": {},
   "outputs": [],
   "source": [
    "prefix = 'capstone-Arvato'\n",
    "\n",
    "val_location = session.upload_data(os.path.join(data_dir, 'validation.csv'), key_prefix=prefix)\n",
    "train_location = session.upload_data(os.path.join(data_dir, 'train.csv'), key_prefix=prefix)"
   ]
  },
  {
   "cell_type": "markdown",
   "id": "a910fc73",
   "metadata": {},
   "source": [
    "### Models design\n",
    "Two different types of model will be investigated. We will use SageMaker's hyperparameter tuning functionality to investigate different architecture and retain the one that performs the best on the validation set.\n",
    "\n",
    "1) An XGBoost model\n",
    "XGBoost is a decision-tree-based ensemble Machine Learning algorithm that uses a gradient boosting framework.\n",
    "When it comes to small-to-medium structured/tabular data, decision tree based algorithms are considered best-in-class right now.  \n",
    "The investigated hyperparameters will be: \n",
    "\n",
    "- The \"max_depth\" of the tree.\n",
    "- The \"eta\" (learning rate equivalent).\n",
    "- The \"min_child_weight\".\n",
    "- The \"subsample\" ratio of training instances (to prevent overfitting).\n",
    "- \"gamma\", the minimum loss reduction required to make a further partition on a leaf node of the tree.\n",
    "\n",
    "2) A custom ANN model   \n",
    "A simple, classic neural net composed of 4 fully connected layers.\n",
    "The investigated hyperparameters will be: \n",
    "- The dimension of each layer.\n",
    "  \n",
    "### Metric\n",
    "As stated earlier, the data is highly imbalanced. We have more thn 40 thousand - 0 responses and only 532 - 1 responses. Accuracy will be a bad metric to choose for this problem since the accuracy might always be more than 98% even if the model predicts all zeros.  \n",
    "\n",
    "To address this imbalance while evaluating the model we need to chose a metric which will take this class imbalance into accounts. The usual metrics used for imbalanced classification are Precision and Recall or Area under Receiver Operating Curve (AUROC). The AUROC metric considers both true positive rate and false positive rate. It is a good choice for this problem, since we want to be able to correctly predict both cases i.e. whether a person becomes a customer or not"
   ]
  },
  {
   "cell_type": "markdown",
   "id": "bfd06e3c",
   "metadata": {},
   "source": [
    "### 0) Benchmark\n",
    "First, let's create a simple Logistic regression model on unscaled data to set a benchmark performance that we will aim to improve."
   ]
  },
  {
   "cell_type": "code",
   "execution_count": 14,
   "id": "f2d386b3",
   "metadata": {},
   "outputs": [],
   "source": [
    "# Instantiate the model\n",
    "lr = LogisticRegression()"
   ]
  },
  {
   "cell_type": "code",
   "execution_count": 16,
   "id": "fb76776c",
   "metadata": {},
   "outputs": [
    {
     "name": "stderr",
     "output_type": "stream",
     "text": [
      "/home/ec2-user/anaconda3/envs/pytorch_p36/lib/python3.6/site-packages/sklearn/utils/validation.py:63: DataConversionWarning: A column-vector y was passed when a 1d array was expected. Please change the shape of y to (n_samples, ), for example using ravel().\n",
      "  return f(*args, **kwargs)\n",
      "/home/ec2-user/anaconda3/envs/pytorch_p36/lib/python3.6/site-packages/sklearn/linear_model/_logistic.py:765: ConvergenceWarning: lbfgs failed to converge (status=1):\n",
      "STOP: TOTAL NO. of ITERATIONS REACHED LIMIT.\n",
      "\n",
      "Increase the number of iterations (max_iter) or scale the data as shown in:\n",
      "    https://scikit-learn.org/stable/modules/preprocessing.html\n",
      "Please also refer to the documentation for alternative solver options:\n",
      "    https://scikit-learn.org/stable/modules/linear_model.html#logistic-regression\n",
      "  extra_warning_msg=_LOGISTIC_SOLVER_CONVERGENCE_MSG)\n"
     ]
    },
    {
     "data": {
      "text/plain": [
       "LogisticRegression()"
      ]
     },
     "execution_count": 16,
     "metadata": {},
     "output_type": "execute_result"
    }
   ],
   "source": [
    "# Train the model\n",
    "lr.fit(X_train, Y_train)"
   ]
  },
  {
   "cell_type": "code",
   "execution_count": 20,
   "id": "0d4442e5",
   "metadata": {},
   "outputs": [],
   "source": [
    "pred = lr.predict_proba(X_val)[:,1]"
   ]
  },
  {
   "cell_type": "code",
   "execution_count": 21,
   "id": "ef545ab8",
   "metadata": {},
   "outputs": [
    {
     "name": "stdout",
     "output_type": "stream",
     "text": [
      "Baseline AUROC -  0.6632640276201944\n"
     ]
    }
   ],
   "source": [
    "print(\"Baseline AUROC - \", roc_auc_score(Y_val, pred))"
   ]
  },
  {
   "cell_type": "markdown",
   "id": "ffa010fa",
   "metadata": {},
   "source": [
    "Our baseline is therefore an AUROC of 66%"
   ]
  },
  {
   "cell_type": "markdown",
   "id": "0147f088",
   "metadata": {},
   "source": [
    "### 1) XGBoost model \n",
    "\n",
    "Now, let's explore if we can do better using and XGBoost model.  \n",
    "The training/hyperparameter-tuning will be performed using the high level SageMaker API.  \n",
    "To construct an estimator, the object which we wish to train, we need to provide the location of a container which contains the training code. Since XGBoost is a built in algorithm this container is provided by Amazon. To do so, we will be using the get_image_uri method."
   ]
  },
  {
   "cell_type": "code",
   "execution_count": 25,
   "id": "7a43e533",
   "metadata": {},
   "outputs": [],
   "source": [
    "# As stated above, we use this utility method to construct the image name for the training container.\n",
    "container = sagemaker.image_uris.retrieve(\"xgboost\", session.boto_region_name, \"latest\")\n",
    "\n",
    "# Now that we know which container to use, we can construct the estimator object.\n",
    "xgb = sagemaker.estimator.Estimator(container, # The name of the training container\n",
    "                                    role,      # The IAM role to use (our current role in this case)\n",
    "                                    instance_count=1, # The number of instances to use for training\n",
    "                                    instance_type='ml.m4.xlarge', # The type of instance ot use for training\n",
    "                                    output_path='s3://{}/{}/output'.format(session.default_bucket(), prefix), # Where to save the output (the model artifacts)\n",
    "                                    sagemaker_session=session) # The current SageMaker session"
   ]
  },
  {
   "cell_type": "markdown",
   "id": "b936c5b6",
   "metadata": {},
   "source": [
    "Before beginning the hyperparameter tuning, we should make sure to set any model specific hyperparameters that we wish to have default values."
   ]
  },
  {
   "cell_type": "code",
   "execution_count": 26,
   "id": "4f64f774",
   "metadata": {},
   "outputs": [],
   "source": [
    "xgb.set_hyperparameters(max_depth=5,\n",
    "                        eta=0.2,\n",
    "                        gamma=4,\n",
    "                        min_child_weight=6,\n",
    "                        subsample=0.8,\n",
    "                        objective='binary:logistic', # 0/1 predictions\n",
    "                        eval_metric='auc',\n",
    "                        early_stopping_rounds=10,\n",
    "                        num_round=300)"
   ]
  },
  {
   "cell_type": "markdown",
   "id": "40b3107f",
   "metadata": {},
   "source": [
    "Now that we have our estimator object completely set up, it is time to create the hyperparameter tuner. To do this we need to construct a new object which contains each of the parameters we want SageMaker to tune."
   ]
  },
  {
   "cell_type": "code",
   "execution_count": 29,
   "id": "34197386",
   "metadata": {},
   "outputs": [],
   "source": [
    "xgb_hyperparameter_tuner = HyperparameterTuner(estimator = xgb, # The estimator object to use as the basis for the training jobs.\n",
    "                                               objective_metric_name = 'validation:auc', # The metric used to compare trained models.\n",
    "                                               objective_type = 'Maximize', # Whether we wish to minimize or maximize the metric.\n",
    "                                               max_jobs = 30, # The total number of models to train\n",
    "                                               max_parallel_jobs = 3, # The number of models to train in parallel\n",
    "                                               hyperparameter_ranges = {\n",
    "                                                    'max_depth': IntegerParameter(3, 20),\n",
    "                                                    'eta'      : ContinuousParameter(0.05, 0.5),\n",
    "                                                    'min_child_weight': IntegerParameter(2, 12),\n",
    "                                                    'subsample': ContinuousParameter(0.5, 0.9),\n",
    "                                                    'gamma': ContinuousParameter(0, 10),\n",
    "                                               })"
   ]
  },
  {
   "cell_type": "code",
   "execution_count": 33,
   "id": "680d4b2c",
   "metadata": {},
   "outputs": [
    {
     "name": "stdout",
     "output_type": "stream",
     "text": [
      ".............................................................................................................................................................................................................................................................................................................................................................................................................................................................................................................................................................................................................................................................................................!\n"
     ]
    }
   ],
   "source": [
    "# This is a wrapper around the location of our train and validation data, to make sure that SageMaker\n",
    "# knows our data is in csv format.\n",
    "s3_input_train = TrainingInput(train_location, content_type='csv')\n",
    "s3_input_validation = TrainingInput(val_location, content_type='csv')\n",
    "\n",
    "# Let's train!\n",
    "xgb_hyperparameter_tuner.fit({'train': s3_input_train, 'validation': s3_input_validation})"
   ]
  },
  {
   "cell_type": "markdown",
   "id": "05374b0f",
   "metadata": {},
   "source": [
    "Once the hyperamater tuner has finished, we can retrieve information about the best performing model. Since we'd like to set up a batch transform job to test the best model, we can construct a new estimator object from the results of the best training job."
   ]
  },
  {
   "cell_type": "code",
   "execution_count": 35,
   "id": "6d1a3be2",
   "metadata": {},
   "outputs": [
    {
     "name": "stdout",
     "output_type": "stream",
     "text": [
      "\n",
      "2021-10-13 02:51:07 Starting - Preparing the instances for training\n",
      "2021-10-13 02:51:07 Downloading - Downloading input data\n",
      "2021-10-13 02:51:07 Training - Training image download completed. Training in progress.\n",
      "2021-10-13 02:51:07 Uploading - Uploading generated training model\n",
      "2021-10-13 02:51:07 Completed - Training job completed\n"
     ]
    }
   ],
   "source": [
    "xgb_attached = sagemaker.estimator.Estimator.attach(xgb_hyperparameter_tuner.best_training_job())"
   ]
  },
  {
   "cell_type": "markdown",
   "id": "50710251",
   "metadata": {},
   "source": [
    "Now that we have our best performing model, we can test it properly. Let's create predictions of our validation set and evaluate them with the roc_auc_score() function.  \n",
    "To start with, we need to build a transformer object from our fit model."
   ]
  },
  {
   "cell_type": "code",
   "execution_count": 36,
   "id": "a6e78f82",
   "metadata": {},
   "outputs": [],
   "source": [
    "xgb_transformer = xgb_attached.transformer(instance_count = 1, instance_type = 'ml.m4.xlarge')"
   ]
  },
  {
   "cell_type": "markdown",
   "id": "4a179411",
   "metadata": {},
   "source": [
    "We need to make sure to provide SageMaker with the type of data that we are providing to our model, in our case text/csv, so that it knows how to serialize our data. In addition, we need to make sure to let SageMaker know how to split our data up into chunks if the entire data set happens to be too large to send to our model all at once.   "
   ]
  },
  {
   "cell_type": "code",
   "execution_count": 40,
   "id": "f1a46ce6",
   "metadata": {},
   "outputs": [],
   "source": [
    "# Get rid of the label part\n",
    "X_val.to_csv(os.path.join(data_dir, 'validation-test.csv'), header=False, index=False)\n",
    "valtest_location = session.upload_data(os.path.join(data_dir, 'validation-test.csv'), key_prefix=prefix)"
   ]
  },
  {
   "cell_type": "code",
   "execution_count": 41,
   "id": "69de2212",
   "metadata": {},
   "outputs": [
    {
     "name": "stdout",
     "output_type": "stream",
     "text": [
      "...............................\u001b[34mArguments: serve\u001b[0m\n",
      "\u001b[34m[2021-10-13 03:33:29 +0000] [1] [INFO] Starting gunicorn 19.9.0\u001b[0m\n",
      "\u001b[34m[2021-10-13 03:33:29 +0000] [1] [INFO] Listening at: http://0.0.0.0:8080 (1)\u001b[0m\n",
      "\u001b[34m[2021-10-13 03:33:29 +0000] [1] [INFO] Using worker: gevent\u001b[0m\n",
      "\u001b[34m[2021-10-13 03:33:29 +0000] [20] [INFO] Booting worker with pid: 20\u001b[0m\n",
      "\u001b[34m[2021-10-13 03:33:29 +0000] [21] [INFO] Booting worker with pid: 21\u001b[0m\n",
      "\u001b[34m/opt/amazon/lib/python3.7/site-packages/gunicorn/workers/ggevent.py:65: MonkeyPatchWarning: Monkey-patching ssl after ssl has already been imported may lead to errors, including RecursionError on Python 3.6. It may also silently lead to incorrect behaviour on Python 3.7. Please monkey-patch earlier. See https://github.com/gevent/gevent/issues/1016. Modules that had direct imports (NOT patched): ['urllib3.util.ssl_ (/opt/amazon/lib/python3.7/site-packages/urllib3/util/ssl_.py)', 'urllib3.util (/opt/amazon/lib/python3.7/site-packages/urllib3/util/__init__.py)']. \n",
      "  monkey.patch_all(subprocess=True)\u001b[0m\n",
      "\u001b[34m[2021-10-13:03:33:29:INFO] Model loaded successfully for worker : 20\u001b[0m\n",
      "\u001b[34m/opt/amazon/lib/python3.7/site-packages/gunicorn/workers/ggevent.py:65: MonkeyPatchWarning: Monkey-patching ssl after ssl has already been imported may lead to errors, including RecursionError on Python 3.6. It may also silently lead to incorrect behaviour on Python 3.7. Please monkey-patch earlier. See https://github.com/gevent/gevent/issues/1016. Modules that had direct imports (NOT patched): ['urllib3.util.ssl_ (/opt/amazon/lib/python3.7/site-packages/urllib3/util/ssl_.py)', 'urllib3.util (/opt/amazon/lib/python3.7/site-packages/urllib3/util/__init__.py)']. \n",
      "  monkey.patch_all(subprocess=True)\u001b[0m\n",
      "\u001b[34m[2021-10-13:03:33:29:INFO] Model loaded successfully for worker : 21\u001b[0m\n",
      "\u001b[34m[2021-10-13 03:33:29 +0000] [22] [INFO] Booting worker with pid: 22\u001b[0m\n",
      "\u001b[34m[2021-10-13 03:33:29 +0000] [23] [INFO] Booting worker with pid: 23\u001b[0m\n",
      "\u001b[34m/opt/amazon/lib/python3.7/site-packages/gunicorn/workers/ggevent.py:65: MonkeyPatchWarning: Monkey-patching ssl after ssl has already been imported may lead to errors, including RecursionError on Python 3.6. It may also silently lead to incorrect behaviour on Python 3.7. Please monkey-patch earlier. See https://github.com/gevent/gevent/issues/1016. Modules that had direct imports (NOT patched): ['urllib3.util.ssl_ (/opt/amazon/lib/python3.7/site-packages/urllib3/util/ssl_.py)', 'urllib3.util (/opt/amazon/lib/python3.7/site-packages/urllib3/util/__init__.py)']. \n",
      "  monkey.patch_all(subprocess=True)\u001b[0m\n",
      "\u001b[34m[2021-10-13:03:33:30:INFO] Model loaded successfully for worker : 22\u001b[0m\n",
      "\u001b[34m/opt/amazon/lib/python3.7/site-packages/gunicorn/workers/ggevent.py:65: MonkeyPatchWarning: Monkey-patching ssl after ssl has already been imported may lead to errors, including RecursionError on Python 3.6. It may also silently lead to incorrect behaviour on Python 3.7. Please monkey-patch earlier. See https://github.com/gevent/gevent/issues/1016. Modules that had direct imports (NOT patched): ['urllib3.util.ssl_ (/opt/amazon/lib/python3.7/site-packages/urllib3/util/ssl_.py)', 'urllib3.util (/opt/amazon/lib/python3.7/site-packages/urllib3/util/__init__.py)']. \n",
      "  monkey.patch_all(subprocess=True)\u001b[0m\n",
      "\u001b[34m[2021-10-13:03:33:30:INFO] Model loaded successfully for worker : 23\u001b[0m\n",
      "\u001b[34m[2021-10-13:03:33:34:INFO] Sniff delimiter as ','\u001b[0m\n",
      "\u001b[34m[2021-10-13:03:33:34:INFO] Determined delimiter of CSV input is ','\u001b[0m\n",
      "\u001b[34m[2021-10-13:03:33:35:INFO] Sniff delimiter as ','\u001b[0m\n",
      "\u001b[34m[2021-10-13:03:33:35:INFO] Determined delimiter of CSV input is ','\u001b[0m\n",
      "\u001b[34m[2021-10-13:03:33:35:INFO] Sniff delimiter as ','\u001b[0m\n",
      "\u001b[34m[2021-10-13:03:33:35:INFO] Determined delimiter of CSV input is ','\u001b[0m\n",
      "\u001b[34m[2021-10-13:03:33:35:INFO] Sniff delimiter as ','\u001b[0m\n",
      "\u001b[34m[2021-10-13:03:33:35:INFO] Determined delimiter of CSV input is ','\u001b[0m\n",
      "\u001b[35m[2021-10-13:03:33:34:INFO] Sniff delimiter as ','\u001b[0m\n",
      "\u001b[35m[2021-10-13:03:33:34:INFO] Determined delimiter of CSV input is ','\u001b[0m\n",
      "\u001b[35m[2021-10-13:03:33:35:INFO] Sniff delimiter as ','\u001b[0m\n",
      "\u001b[35m[2021-10-13:03:33:35:INFO] Determined delimiter of CSV input is ','\u001b[0m\n",
      "\u001b[35m[2021-10-13:03:33:35:INFO] Sniff delimiter as ','\u001b[0m\n",
      "\u001b[35m[2021-10-13:03:33:35:INFO] Determined delimiter of CSV input is ','\u001b[0m\n",
      "\u001b[35m[2021-10-13:03:33:35:INFO] Sniff delimiter as ','\u001b[0m\n",
      "\u001b[35m[2021-10-13:03:33:35:INFO] Determined delimiter of CSV input is ','\u001b[0m\n",
      "\u001b[34m[2021-10-13:03:33:35:INFO] Sniff delimiter as ','\u001b[0m\n",
      "\u001b[34m[2021-10-13:03:33:35:INFO] Determined delimiter of CSV input is ','\u001b[0m\n",
      "\u001b[34m[2021-10-13:03:33:35:INFO] Sniff delimiter as ','\u001b[0m\n",
      "\u001b[34m[2021-10-13:03:33:35:INFO] Determined delimiter of CSV input is ','\u001b[0m\n",
      "\u001b[34m[2021-10-13:03:33:36:INFO] Sniff delimiter as ','\u001b[0m\n",
      "\u001b[34m[2021-10-13:03:33:36:INFO] Determined delimiter of CSV input is ','\u001b[0m\n",
      "\u001b[34m[2021-10-13:03:33:36:INFO] Sniff delimiter as ','\u001b[0m\n",
      "\u001b[34m[2021-10-13:03:33:36:INFO] Determined delimiter of CSV input is ','\u001b[0m\n",
      "\u001b[35m[2021-10-13:03:33:35:INFO] Sniff delimiter as ','\u001b[0m\n",
      "\u001b[35m[2021-10-13:03:33:35:INFO] Determined delimiter of CSV input is ','\u001b[0m\n",
      "\u001b[35m[2021-10-13:03:33:35:INFO] Sniff delimiter as ','\u001b[0m\n",
      "\u001b[35m[2021-10-13:03:33:35:INFO] Determined delimiter of CSV input is ','\u001b[0m\n",
      "\u001b[35m[2021-10-13:03:33:36:INFO] Sniff delimiter as ','\u001b[0m\n",
      "\u001b[35m[2021-10-13:03:33:36:INFO] Determined delimiter of CSV input is ','\u001b[0m\n",
      "\u001b[35m[2021-10-13:03:33:36:INFO] Sniff delimiter as ','\u001b[0m\n",
      "\u001b[35m[2021-10-13:03:33:36:INFO] Determined delimiter of CSV input is ','\u001b[0m\n",
      "\u001b[32m2021-10-13T03:33:33.916:[sagemaker logs]: MaxConcurrentTransforms=4, MaxPayloadInMB=6, BatchStrategy=MULTI_RECORD\u001b[0m\n",
      "\n"
     ]
    }
   ],
   "source": [
    "xgb_transformer.transform(valtest_location, content_type='text/csv', split_type='Line')"
   ]
  },
  {
   "cell_type": "markdown",
   "id": "ac98577c",
   "metadata": {},
   "source": [
    "Now that the batch transform job has finished, the resulting output is stored on S3. Since we wish to analyze the output inside of our notebook we can use a bit of notebook magic to copy the output file from its S3 location and save it locally."
   ]
  },
  {
   "cell_type": "code",
   "execution_count": 42,
   "id": "2ffaae12",
   "metadata": {},
   "outputs": [
    {
     "name": "stdout",
     "output_type": "stream",
     "text": [
      "download: s3://sagemaker-us-east-1-766337292225/xgboost-2021-10-13-03-28-27-938/validation-test.csv.out to data_model/validation-test.csv.out\n"
     ]
    }
   ],
   "source": [
    "!aws s3 cp --recursive $xgb_transformer.output_path $data_dir"
   ]
  },
  {
   "cell_type": "code",
   "execution_count": 44,
   "id": "8dca5896",
   "metadata": {},
   "outputs": [],
   "source": [
    "pred = pd.read_csv(os.path.join(data_dir, 'validation-test.csv.out'), header=None)"
   ]
  },
  {
   "cell_type": "code",
   "execution_count": 45,
   "id": "3243b78c",
   "metadata": {},
   "outputs": [
    {
     "name": "stdout",
     "output_type": "stream",
     "text": [
      "XGBoost AUROC -  0.7971293930935592\n"
     ]
    }
   ],
   "source": [
    "print(\"XGBoost AUROC - \", roc_auc_score(Y_val, pred))"
   ]
  },
  {
   "cell_type": "markdown",
   "id": "4ea1a714",
   "metadata": {},
   "source": [
    "Without much suprise, our XGBoost model performed better than the benchmark model:  66% < 79%"
   ]
  },
  {
   "cell_type": "markdown",
   "id": "b5aee6d2",
   "metadata": {},
   "source": [
    "### 2) Custom Pytorch ANN \n",
    "\n",
    "Finally, let's build and train a Pytorch ANN. \n",
    "The source code to build, train and predict is stored within the source_pytorch folder."
   ]
  },
  {
   "cell_type": "markdown",
   "id": "90562ef1",
   "metadata": {},
   "source": [
    " 1) Inspect the Pytorch estimator doc\n",
    " \n",
    " \n",
    " Use balanced data  \n",
    "2) Hypertune following Plagirism project + create a callback  + Add batch-size as model parameters\n"
   ]
  },
  {
   "cell_type": "code",
   "execution_count": null,
   "id": "739bfc9d",
   "metadata": {},
   "outputs": [],
   "source": []
  },
  {
   "cell_type": "code",
   "execution_count": null,
   "id": "7ddc487e",
   "metadata": {},
   "outputs": [],
   "source": []
  },
  {
   "cell_type": "code",
   "execution_count": null,
   "id": "cce090c7",
   "metadata": {},
   "outputs": [],
   "source": []
  },
  {
   "cell_type": "code",
   "execution_count": null,
   "id": "f512f757",
   "metadata": {},
   "outputs": [],
   "source": []
  },
  {
   "cell_type": "code",
   "execution_count": null,
   "id": "07635f09",
   "metadata": {},
   "outputs": [],
   "source": []
  },
  {
   "cell_type": "code",
   "execution_count": null,
   "id": "c44d6e50",
   "metadata": {},
   "outputs": [],
   "source": []
  },
  {
   "cell_type": "code",
   "execution_count": null,
   "id": "a652f6bc",
   "metadata": {},
   "outputs": [],
   "source": []
  },
  {
   "cell_type": "code",
   "execution_count": null,
   "id": "7f5082f3",
   "metadata": {},
   "outputs": [],
   "source": []
  },
  {
   "cell_type": "code",
   "execution_count": null,
   "id": "ad60a2d8",
   "metadata": {},
   "outputs": [],
   "source": []
  },
  {
   "cell_type": "code",
   "execution_count": null,
   "id": "1d8a4b5e",
   "metadata": {},
   "outputs": [],
   "source": []
  },
  {
   "cell_type": "code",
   "execution_count": null,
   "id": "993f34f1",
   "metadata": {},
   "outputs": [],
   "source": []
  },
  {
   "cell_type": "code",
   "execution_count": null,
   "id": "3be694b1",
   "metadata": {},
   "outputs": [],
   "source": []
  }
 ],
 "metadata": {
  "kernelspec": {
   "display_name": "conda_pytorch_p36",
   "language": "python",
   "name": "conda_pytorch_p36"
  },
  "language_info": {
   "codemirror_mode": {
    "name": "ipython",
    "version": 3
   },
   "file_extension": ".py",
   "mimetype": "text/x-python",
   "name": "python",
   "nbconvert_exporter": "python",
   "pygments_lexer": "ipython3",
   "version": "3.6.13"
  }
 },
 "nbformat": 4,
 "nbformat_minor": 5
}
