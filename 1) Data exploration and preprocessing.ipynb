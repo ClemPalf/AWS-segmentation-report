{
 "cells": [
  {
   "cell_type": "markdown",
   "id": "345f0192",
   "metadata": {},
   "source": [
    "# 1 Basic inspection"
   ]
  },
  {
   "cell_type": "code",
   "execution_count": 5,
   "id": "65d311a1",
   "metadata": {},
   "outputs": [],
   "source": [
    "# import all libraries\n",
    "import os\n",
    "import time\n",
    "import numpy as np\n",
    "import pandas as pd\n",
    "import matplotlib.pyplot as plt\n"
   ]
  },
  {
   "cell_type": "code",
   "execution_count": 8,
   "id": "b74839fa",
   "metadata": {},
   "outputs": [],
   "source": [
    "# Load the data\n",
    "azdias = pd.read_csv('data/Udacity_AZDIAS_052018.csv', sep=';')\n",
    "customers = pd.read_csv('data/Udacity_CUSTOMERS_052018.csv', sep=';')"
   ]
  },
  {
   "cell_type": "markdown",
   "id": "a237222a",
   "metadata": {},
   "source": [
    "Let's start by veryfing the shape of our datasets"
   ]
  },
  {
   "cell_type": "code",
   "execution_count": 9,
   "id": "bc8e95ee",
   "metadata": {},
   "outputs": [
    {
     "name": "stdout",
     "output_type": "stream",
     "text": [
      "Azdias shape - (601875, 366)\n",
      "Customers shape - (191652, 369)\n",
      "Extra columns in Customers Data -  ['PRODUCT_GROUP', 'CUSTOMER_GROUP', 'ONLINE_PURCHASE']\n"
     ]
    }
   ],
   "source": [
    "print(\"Azdias shape -\",azdias.shape)\n",
    "print(\"Customers shape -\",customers.shape)\n",
    "extra_cols_in_customers = [col for col in customers.columns if col not in azdias.columns]\n",
    "print(\"Extra columns in Customers Data - \",extra_cols_in_customers)"
   ]
  },
  {
   "cell_type": "markdown",
   "id": "f6a613d4",
   "metadata": {},
   "source": [
    "Unfortunatly, even after several trials, the notebook instance never managed to upload the integrality of the Azdias dataset. Approximatly 200 000 thousands rows from the original dataset were lost.  \n",
    "**Let's now focus on data treatment.**"
   ]
  },
  {
   "cell_type": "markdown",
   "id": "06c0680c",
   "metadata": {},
   "source": [
    "Later, we will want to perform the same PCA transformer and clustering model on both datasets, let's normalize them now by getting rid of the customers extra columns."
   ]
  },
  {
   "cell_type": "code",
   "execution_count": 10,
   "id": "8a6d113a",
   "metadata": {},
   "outputs": [],
   "source": [
    "del customers['PRODUCT_GROUP']\n",
    "del customers['CUSTOMER_GROUP']\n",
    "del customers['ONLINE_PURCHASE']"
   ]
  },
  {
   "cell_type": "code",
   "execution_count": null,
   "id": "e985d559",
   "metadata": {},
   "outputs": [],
   "source": []
  }
 ],
 "metadata": {
  "kernelspec": {
   "display_name": "conda_pytorch_p36",
   "language": "python",
   "name": "conda_pytorch_p36"
  },
  "language_info": {
   "codemirror_mode": {
    "name": "ipython",
    "version": 3
   },
   "file_extension": ".py",
   "mimetype": "text/x-python",
   "name": "python",
   "nbconvert_exporter": "python",
   "pygments_lexer": "ipython3",
   "version": "3.6.13"
  }
 },
 "nbformat": 4,
 "nbformat_minor": 5
}
