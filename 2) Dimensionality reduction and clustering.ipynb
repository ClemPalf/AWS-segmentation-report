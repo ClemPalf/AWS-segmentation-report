{
 "cells": [
  {
   "cell_type": "markdown",
   "id": "615e127b",
   "metadata": {},
   "source": [
    "# 2 Dimensionality reduction and clustering"
   ]
  },
  {
   "cell_type": "markdown",
   "id": "93d1bab3",
   "metadata": {},
   "source": [
    "Here, we will use unsupervised learning techniques to describe the relationship between the demographics of the company's existing customers and the general population of Germany."
   ]
  },
  {
   "cell_type": "code",
   "execution_count": 1,
   "id": "1c233a95",
   "metadata": {},
   "outputs": [],
   "source": [
    "# import all libraries\n",
    "import os\n",
    "import time\n",
    "import numpy as np\n",
    "import pandas as pd\n",
    "import matplotlib.pyplot as plt\n",
    "import seaborn as sns\n",
    "\n",
    "from sklearn.impute import SimpleImputer\n",
    "from sklearn.preprocessing import StandardScaler\n",
    "from sklearn.decomposition import PCA\n",
    "from sklearn.cluster import KMeans\n",
    "\n",
    "from utils import dataset_treatment"
   ]
  },
  {
   "cell_type": "markdown",
   "id": "90c317f7",
   "metadata": {},
   "source": [
    "Let's start by loading the data"
   ]
  },
  {
   "cell_type": "code",
   "execution_count": 50,
   "id": "6fbc8e1d",
   "metadata": {},
   "outputs": [
    {
     "name": "stderr",
     "output_type": "stream",
     "text": [
      "/home/ec2-user/anaconda3/envs/pytorch_p36/lib/python3.6/site-packages/IPython/core/interactiveshell.py:3072: DtypeWarning: Columns (18,19) have mixed types.Specify dtype option on import or set low_memory=False.\n",
      "  interactivity=interactivity, compiler=compiler, result=result)\n"
     ]
    },
    {
     "name": "stdout",
     "output_type": "stream",
     "text": [
      "Deleting columns...\n",
      "Deleting rows...\n",
      "Encoding...\n"
     ]
    }
   ],
   "source": [
    "azdias = pd.read_csv('data/Udacity_AZDIAS_052018.csv', sep=';')\n",
    "customers = pd.read_csv('data/Udacity_CUSTOMERS_052018.csv', sep=';')\n",
    "\n",
    "azdias, customers = dataset_treatment(azdias, customers)"
   ]
  },
  {
   "cell_type": "markdown",
   "id": "8737d4df",
   "metadata": {},
   "source": [
    "### Dimensionality reduction\n",
    "As the number of features in the data is relatively high, our first step will be to reduce the number of features while keeping as much variance as possible. By using a dimensionality reduction technique, we can effectively reduce the number of features which do not vary much in the data. Since we cannot go through each and every feature ourselves to decide if the feature is varying, we can use a statistical approach to find how much variance is explained by each feature. One such algorithm is Principal Component Analysis(PCA)."
   ]
  },
  {
   "cell_type": "code",
   "execution_count": 3,
   "id": "aac83c04",
   "metadata": {},
   "outputs": [],
   "source": [
    "def perform_pca(data, n_components=None):\n",
    "    pca = PCA(n_components)\n",
    "    pca.fit(data)\n",
    "    data_transformed = pca.transform(data)\n",
    "    return pca, data_transformed"
   ]
  },
  {
   "cell_type": "code",
   "execution_count": 4,
   "id": "28a2d2ac",
   "metadata": {},
   "outputs": [],
   "source": [
    "pca_azdias, _ = perform_pca(azdias)"
   ]
  },
  {
   "cell_type": "code",
   "execution_count": 5,
   "id": "45b5ef9e",
   "metadata": {},
   "outputs": [
    {
     "data": {
      "image/png": "[encoded data removed]",
      "text/plain": [
       "<Figure size 576x720 with 1 Axes>"
      ]
     },
     "metadata": {
      "needs_background": "light"
     },
     "output_type": "display_data"
    }
   ],
   "source": [
    "# Let's explore the variance of the components\n",
    "\n",
    "azdias_variance = np.cumsum(pca_azdias.explained_variance_ratio_)\n",
    "y_label = \"Percentage Explained Variance\"\n",
    "\n",
    "fig = plt.figure(figsize=(8,10))\n",
    "\n",
    "ax = fig.add_subplot(211)\n",
    "ax.plot(azdias_variance)\n",
    "ax.set_xlabel(\"No. of components\")\n",
    "ax.set_ylabel(y_label)\n",
    "ax.set_title(\"Azdias - PCA Explained Variance Ratio vs Number of Components\")\n",
    "ax.grid()\n",
    "plt.show()"
   ]
  },
  {
   "cell_type": "markdown",
   "id": "d42d3c0d",
   "metadata": {},
   "source": [
    "As we can see, we can get rid of half the features and still retain 90% of the variance. Let's do that!"
   ]
  },
  {
   "cell_type": "code",
   "execution_count": 6,
   "id": "cd6fc003",
   "metadata": {},
   "outputs": [],
   "source": [
    "pca_175, azdias_pca_175 = perform_pca(azdias, n_components=175)"
   ]
  },
  {
   "cell_type": "markdown",
   "id": "85190451",
   "metadata": {},
   "source": [
    "### Interpreting the selected components \n",
    "We can now examine the makeup of each PCA component based on the weightings of the original features that are included in the component. The following code shows the feature-level makeup of the first component."
   ]
  },
  {
   "cell_type": "code",
   "execution_count": 30,
   "id": "4fee8767",
   "metadata": {},
   "outputs": [],
   "source": [
    "def plot_feature_weights(features, components, dimension, n_weights = 3, figsize=(7,8)):\n",
    "    \"\"\"\n",
    "    This function displays interesting features of the selected dimension\n",
    "    \"\"\"\n",
    "    \n",
    "    feature_weights = dict(zip(features, components[dimension]))\n",
    "    sorted_weights = sorted(feature_weights.items(), key = lambda kv: kv[1])\n",
    "    \n",
    "    feat_names = []\n",
    "    feat_weights = []\n",
    "    \n",
    "\n",
    "    for feature, weight in sorted_weights[-n_weights:]:\n",
    "        feat_names.append(feature)\n",
    "        feat_weights.append(weight)\n",
    "        \n",
    "    for feature, weight, in sorted_weights[:n_weights]:\n",
    "        feat_names.append(feature)\n",
    "        feat_weights.append(weight)\n",
    "    \n",
    "    component_info = {\"Feature\":feat_names, \"FeatureWeight\":feat_weights}\n",
    "    component_info = pd.DataFrame(component_info)\n",
    "    component_info.sort_values(\"FeatureWeight\", inplace=True, ascending=False, ignore_index=True)\n",
    "           \n",
    "    \n",
    "    fig = plt.figure(figsize=(7,8))\n",
    "\n",
    "    ax = fig.add_subplot(211)\n",
    "    ax.bar(feat_names, feat_weights)\n",
    "    ax.set_ylabel(\"Feature Weight\")\n",
    "    ax.set_xlabel(\"Feature Name\")\n",
    "    ax.set_title(\"PCA Feature weights - Component {}\".format(dimension+1))\n",
    "    for tick in ax.get_xticklabels():\n",
    "        tick.set_rotation(45)\n",
    "    \n",
    "    ax.grid()\n",
    "\n",
    "    fig.tight_layout()\n",
    "    plt.show()\n",
    "    \n",
    "    return component_info"
   ]
  },
  {
   "cell_type": "markdown",
   "id": "5f5e1104",
   "metadata": {},
   "source": [
    "Let's now inspect the make up of the top 3 components, and refer to the attributes_info file to know what it represent (when the description is available)."
   ]
  },
  {
   "cell_type": "code",
   "execution_count": 31,
   "id": "0ffe9890",
   "metadata": {},
   "outputs": [
    {
     "data": {
      "image/png": "[encoded data removed]",
      "text/plain": [
       "<Figure size 504x576 with 1 Axes>"
      ]
     },
     "metadata": {
      "needs_background": "light"
     },
     "output_type": "display_data"
    },
    {
     "data": {
      "text/html": [
       "<div>\n",
       "<style scoped>\n",
       "    .dataframe tbody tr th:only-of-type {\n",
       "        vertical-align: middle;\n",
       "    }\n",
       "\n",
       "    .dataframe tbody tr th {\n",
       "        vertical-align: top;\n",
       "    }\n",
       "\n",
       "    .dataframe thead th {\n",
       "        text-align: right;\n",
       "    }\n",
       "</style>\n",
       "<table border=\"1\" class=\"dataframe\">\n",
       "  <thead>\n",
       "    <tr style=\"text-align: right;\">\n",
       "      <th></th>\n",
       "      <th>Feature</th>\n",
       "      <th>FeatureWeight</th>\n",
       "    </tr>\n",
       "  </thead>\n",
       "  <tbody>\n",
       "    <tr>\n",
       "      <th>0</th>\n",
       "      <td>MOBI_REGIO</td>\n",
       "      <td>0.135047</td>\n",
       "    </tr>\n",
       "    <tr>\n",
       "      <th>1</th>\n",
       "      <td>PLZ8_ANTG1</td>\n",
       "      <td>0.127500</td>\n",
       "    </tr>\n",
       "    <tr>\n",
       "      <th>2</th>\n",
       "      <td>KBA13_ANTG1</td>\n",
       "      <td>0.126900</td>\n",
       "    </tr>\n",
       "    <tr>\n",
       "      <th>3</th>\n",
       "      <td>KBA13_ANTG4</td>\n",
       "      <td>-0.121975</td>\n",
       "    </tr>\n",
       "    <tr>\n",
       "      <th>4</th>\n",
       "      <td>KBA13_ANTG3</td>\n",
       "      <td>-0.125836</td>\n",
       "    </tr>\n",
       "    <tr>\n",
       "      <th>5</th>\n",
       "      <td>PLZ8_ANTG3</td>\n",
       "      <td>-0.126473</td>\n",
       "    </tr>\n",
       "  </tbody>\n",
       "</table>\n",
       "</div>"
      ],
      "text/plain": [
       "       Feature  FeatureWeight\n",
       "0   MOBI_REGIO       0.135047\n",
       "1   PLZ8_ANTG1       0.127500\n",
       "2  KBA13_ANTG1       0.126900\n",
       "3  KBA13_ANTG4      -0.121975\n",
       "4  KBA13_ANTG3      -0.125836\n",
       "5   PLZ8_ANTG3      -0.126473"
      ]
     },
     "execution_count": 31,
     "metadata": {},
     "output_type": "execute_result"
    }
   ],
   "source": [
    "# display makeup of first component\n",
    "component_1_info = plot_feature_weights(azdias.columns.values, pca_175.components_, dimension=0)\n",
    "component_1_info.head(6)"
   ]
  },
  {
   "cell_type": "markdown",
   "id": "76f4cbd0",
   "metadata": {},
   "source": [
    "Component 1:\n",
    "\n",
    "- Has a high positive weight to moving patterns (MOBI_REGIO).\n",
    "- Has a high weight to number of 1-2 family houses in the neighbourhood and a negative weight to number of 6-10 family houses (respectively PLZ8_ANTG1 and PLZ8_ANTG3)."
   ]
  },
  {
   "cell_type": "code",
   "execution_count": 32,
   "id": "0e1dad9d",
   "metadata": {},
   "outputs": [
    {
     "data": {
      "image/png": "[encoded data removed]",
      "text/plain": [
       "<Figure size 504x576 with 1 Axes>"
      ]
     },
     "metadata": {
      "needs_background": "light"
     },
     "output_type": "display_data"
    },
    {
     "data": {
      "text/html": [
       "<div>\n",
       "<style scoped>\n",
       "    .dataframe tbody tr th:only-of-type {\n",
       "        vertical-align: middle;\n",
       "    }\n",
       "\n",
       "    .dataframe tbody tr th {\n",
       "        vertical-align: top;\n",
       "    }\n",
       "\n",
       "    .dataframe thead th {\n",
       "        text-align: right;\n",
       "    }\n",
       "</style>\n",
       "<table border=\"1\" class=\"dataframe\">\n",
       "  <thead>\n",
       "    <tr style=\"text-align: right;\">\n",
       "      <th></th>\n",
       "      <th>Feature</th>\n",
       "      <th>FeatureWeight</th>\n",
       "    </tr>\n",
       "  </thead>\n",
       "  <tbody>\n",
       "    <tr>\n",
       "      <th>0</th>\n",
       "      <td>ONLINE_AFFINITAET</td>\n",
       "      <td>0.146148</td>\n",
       "    </tr>\n",
       "    <tr>\n",
       "      <th>1</th>\n",
       "      <td>D19_GESAMT_ANZ_24</td>\n",
       "      <td>0.139879</td>\n",
       "    </tr>\n",
       "    <tr>\n",
       "      <th>2</th>\n",
       "      <td>D19_GESAMT_ANZ_12</td>\n",
       "      <td>0.132048</td>\n",
       "    </tr>\n",
       "    <tr>\n",
       "      <th>3</th>\n",
       "      <td>D19_GESAMT_DATUM</td>\n",
       "      <td>-0.129720</td>\n",
       "    </tr>\n",
       "    <tr>\n",
       "      <th>4</th>\n",
       "      <td>D19_VERSAND_ONLINE_DATUM</td>\n",
       "      <td>-0.130386</td>\n",
       "    </tr>\n",
       "    <tr>\n",
       "      <th>5</th>\n",
       "      <td>D19_GESAMT_ONLINE_DATUM</td>\n",
       "      <td>-0.135229</td>\n",
       "    </tr>\n",
       "  </tbody>\n",
       "</table>\n",
       "</div>"
      ],
      "text/plain": [
       "                    Feature  FeatureWeight\n",
       "0         ONLINE_AFFINITAET       0.146148\n",
       "1         D19_GESAMT_ANZ_24       0.139879\n",
       "2         D19_GESAMT_ANZ_12       0.132048\n",
       "3          D19_GESAMT_DATUM      -0.129720\n",
       "4  D19_VERSAND_ONLINE_DATUM      -0.130386\n",
       "5   D19_GESAMT_ONLINE_DATUM      -0.135229"
      ]
     },
     "execution_count": 32,
     "metadata": {},
     "output_type": "execute_result"
    }
   ],
   "source": [
    "# display makeup of second component\n",
    "component_2_info = plot_feature_weights(azdias.columns.values, pca_175.components_, dimension=1)\n",
    "component_2_info.head(6)"
   ]
  },
  {
   "cell_type": "markdown",
   "id": "dddb7a1e",
   "metadata": {},
   "source": [
    "Component 2:\n",
    "\n",
    "- Has a high positive weights towards online activity (ONLINE_AFFINITAET)."
   ]
  },
  {
   "cell_type": "code",
   "execution_count": 33,
   "id": "84d98a10",
   "metadata": {},
   "outputs": [
    {
     "data": {
      "image/png": "[encoded data removed]",
      "text/plain": [
       "<Figure size 504x576 with 1 Axes>"
      ]
     },
     "metadata": {
      "needs_background": "light"
     },
     "output_type": "display_data"
    },
    {
     "data": {
      "text/html": [
       "<div>\n",
       "<style scoped>\n",
       "    .dataframe tbody tr th:only-of-type {\n",
       "        vertical-align: middle;\n",
       "    }\n",
       "\n",
       "    .dataframe tbody tr th {\n",
       "        vertical-align: top;\n",
       "    }\n",
       "\n",
       "    .dataframe thead th {\n",
       "        text-align: right;\n",
       "    }\n",
       "</style>\n",
       "<table border=\"1\" class=\"dataframe\">\n",
       "  <thead>\n",
       "    <tr style=\"text-align: right;\">\n",
       "      <th></th>\n",
       "      <th>Feature</th>\n",
       "      <th>FeatureWeight</th>\n",
       "    </tr>\n",
       "  </thead>\n",
       "  <tbody>\n",
       "    <tr>\n",
       "      <th>0</th>\n",
       "      <td>KBA13_HERST_BMW_BENZ</td>\n",
       "      <td>0.172169</td>\n",
       "    </tr>\n",
       "    <tr>\n",
       "      <th>1</th>\n",
       "      <td>KBA13_SEG_OBEREMITTELKLASSE</td>\n",
       "      <td>0.149261</td>\n",
       "    </tr>\n",
       "    <tr>\n",
       "      <th>2</th>\n",
       "      <td>KBA13_MERCEDES</td>\n",
       "      <td>0.146296</td>\n",
       "    </tr>\n",
       "    <tr>\n",
       "      <th>3</th>\n",
       "      <td>KBA13_KMH_140_210</td>\n",
       "      <td>-0.121020</td>\n",
       "    </tr>\n",
       "    <tr>\n",
       "      <th>4</th>\n",
       "      <td>KBA13_SEG_KLEINWAGEN</td>\n",
       "      <td>-0.121818</td>\n",
       "    </tr>\n",
       "    <tr>\n",
       "      <th>5</th>\n",
       "      <td>KBA13_SITZE_5</td>\n",
       "      <td>-0.141463</td>\n",
       "    </tr>\n",
       "  </tbody>\n",
       "</table>\n",
       "</div>"
      ],
      "text/plain": [
       "                       Feature  FeatureWeight\n",
       "0         KBA13_HERST_BMW_BENZ       0.172169\n",
       "1  KBA13_SEG_OBEREMITTELKLASSE       0.149261\n",
       "2               KBA13_MERCEDES       0.146296\n",
       "3            KBA13_KMH_140_210      -0.121020\n",
       "4         KBA13_SEG_KLEINWAGEN      -0.121818\n",
       "5                KBA13_SITZE_5      -0.141463"
      ]
     },
     "execution_count": 33,
     "metadata": {},
     "output_type": "execute_result"
    }
   ],
   "source": [
    "# display makeup of third component\n",
    "component_3_info = plot_feature_weights(azdias.columns.values, pca_175.components_, dimension=2)\n",
    "component_3_info.head(6)"
   ]
  },
  {
   "cell_type": "markdown",
   "id": "afecfcf7",
   "metadata": {},
   "source": [
    "Component 3:\n",
    "\n",
    "- Has a high positive weights towards the share of BMW & MERCEDES (KBA13_HERST_BMW_BENZ).\n",
    "- Has a negative weight to features that have information about lower class cars's share (KBA13_SEG_KLEINWAGEN).\n",
    "\n",
    "Those features might be correlated to one's financial situation"
   ]
  },
  {
   "cell_type": "markdown",
   "id": "a96e8750",
   "metadata": {},
   "source": [
    "### K-Means Clustering\n",
    "Now, we’ll use the unsupervised clustering algorithm, k-means, to segment our population using their PCA attributes. K-means is a clustering algorithm that identifies clusters of similar data points based on their component makeup."
   ]
  },
  {
   "cell_type": "markdown",
   "id": "b7c8cc30",
   "metadata": {},
   "source": [
    "**Choosing a \"Good\" K**  \n",
    "One method for choosing a \"good\" k, is to choose based on empirical data. A bad k would be one so high that only one or two very close data points are near it, and another bad k would be one so low that data points are really far away from the centers.\n",
    "\n",
    "We want to select a k such that data points in a single cluster are close together but that there are enough clusters to effectively separate the data. We can approximate this separation by measuring how close your data points are to each cluster center; the average centroid distance between cluster points and a centroid. After trying several values for k, the centroid distance typically reaches some \"elbow\"; it stops decreasing at a sharp rate and this indicates a good value of k.  Let's try the algorithm for different numbers of clusters (k). "
   ]
  },
  {
   "cell_type": "code",
   "execution_count": 24,
   "id": "66eaff4e",
   "metadata": {},
   "outputs": [],
   "source": [
    "def get_Kmeans_scores(data, K_max):\n",
    "    \n",
    "    scores = []\n",
    "    data = pd.DataFrame(data)\n",
    "    print(\"Performing K-Means clustering\")\n",
    "\n",
    "    for n in range(2, K_max):\n",
    "        \n",
    "        print(\"\\nTraining for {} clusters: \".format(n))\n",
    "        start = time.time()\n",
    "        \n",
    "        kmeans = KMeans(n)\n",
    "        model = kmeans.fit(data.sample(20000)) # To save time, let's just work with a sample of the dataset\n",
    "        scores.append(abs(model.score(data)))\n",
    "        \n",
    "        print(\"Done! Score: \", scores[-1])\n",
    "        print(\"Time elapsed: {:.2f} sec.\".format(time.time()-start))\n",
    "        \n",
    "    return scores, range(2, K_max)"
   ]
  },
  {
   "cell_type": "code",
   "execution_count": 25,
   "id": "2f26850f",
   "metadata": {},
   "outputs": [
    {
     "name": "stdout",
     "output_type": "stream",
     "text": [
      "Performing K-Means clustering\n",
      "\n",
      "Training for 2 clusters: \n",
      "Done! Score:  218655469.56816486\n",
      "Time elapsed: 1.43 sec.\n",
      "\n",
      "Training for 3 clusters: \n",
      "Done! Score:  210874392.75010875\n",
      "Time elapsed: 2.01 sec.\n",
      "\n",
      "Training for 4 clusters: \n",
      "Done! Score:  206532995.20222083\n",
      "Time elapsed: 2.95 sec.\n",
      "\n",
      "Training for 5 clusters: \n",
      "Done! Score:  202906752.71982738\n",
      "Time elapsed: 3.10 sec.\n",
      "\n",
      "Training for 6 clusters: \n",
      "Done! Score:  199982946.33117038\n",
      "Time elapsed: 4.16 sec.\n",
      "\n",
      "Training for 7 clusters: \n",
      "Done! Score:  197588197.94790012\n",
      "Time elapsed: 5.09 sec.\n",
      "\n",
      "Training for 8 clusters: \n",
      "Done! Score:  195479678.61189356\n",
      "Time elapsed: 4.76 sec.\n",
      "\n",
      "Training for 9 clusters: \n",
      "Done! Score:  193708689.19320178\n",
      "Time elapsed: 6.06 sec.\n",
      "\n",
      "Training for 10 clusters: \n",
      "Done! Score:  192392238.014568\n",
      "Time elapsed: 5.12 sec.\n",
      "\n",
      "Training for 11 clusters: \n",
      "Done! Score:  191274106.76608026\n",
      "Time elapsed: 7.07 sec.\n",
      "\n",
      "Training for 12 clusters: \n",
      "Done! Score:  190071338.24246457\n",
      "Time elapsed: 5.56 sec.\n",
      "\n",
      "Training for 13 clusters: \n",
      "Done! Score:  189218177.78260353\n",
      "Time elapsed: 6.86 sec.\n",
      "\n",
      "Training for 14 clusters: \n",
      "Done! Score:  188388042.13233462\n",
      "Time elapsed: 6.47 sec.\n"
     ]
    }
   ],
   "source": [
    "scores, range_ = get_Kmeans_scores(azdias_pca_175, 15)"
   ]
  },
  {
   "cell_type": "markdown",
   "id": "af6538e3",
   "metadata": {},
   "source": [
    "The graph below indicates the average centroid distance for value of k between 2 and 15"
   ]
  },
  {
   "cell_type": "code",
   "execution_count": 26,
   "id": "80c8959f",
   "metadata": {},
   "outputs": [],
   "source": [
    "def plot_elbow(scores, range_):\n",
    "    \n",
    "    fig = plt.figure(figsize=(12,6))\n",
    "    ax = fig.add_subplot(111)\n",
    "    \n",
    "    ax.plot(range_, scores, linestyle= \"--\",marker = \"o\", color=\"orange\")\n",
    "    ax.set_xlabel(\"No. of Clusters\")\n",
    "    ax.set_ylabel(\"Sum of squared distances\")\n",
    "    ax.set_title(\"Kmeans - Cluster distances vs No. of Clusters\")\n",
    "    \n",
    "    plt.show()"
   ]
  },
  {
   "cell_type": "code",
   "execution_count": 27,
   "id": "7b9e4c0f",
   "metadata": {},
   "outputs": [
    {
     "data": {
      "image/png": "[encoded data removed]",
      "text/plain": [
       "<Figure size 864x432 with 1 Axes>"
      ]
     },
     "metadata": {
      "needs_background": "light"
     },
     "output_type": "display_data"
    }
   ],
   "source": [
    "plot_elbow(scores, range_)"
   ]
  },
  {
   "cell_type": "markdown",
   "id": "323f9a00",
   "metadata": {},
   "source": [
    "Unfortunatly, there is no obvious \"elbow\". However, we could say that after 8, the sum of squared distances decrease very slowly. This indicates that there is enough separation to distinguish the data points in each cluster, but also that we included enough clusters so that the data points aren’t extremely far away from each cluster.  \n",
    "Let's recreate our kmeans model with 8 clusters and transform both datasets."
   ]
  },
  {
   "cell_type": "code",
   "execution_count": 35,
   "id": "31739cf5",
   "metadata": {},
   "outputs": [
    {
     "data": {
      "text/plain": [
       "KMeans()"
      ]
     },
     "execution_count": 35,
     "metadata": {},
     "output_type": "execute_result"
    }
   ],
   "source": [
    "kmeans = KMeans(8)\n",
    "kmeans.fit(azdias_pca_175)"
   ]
  },
  {
   "cell_type": "code",
   "execution_count": 36,
   "id": "55d3af90",
   "metadata": {},
   "outputs": [],
   "source": [
    "# Transform the azdias dataset\n",
    "azdias_clusters = kmeans.predict(azdias_pca_175)\n",
    "\n",
    "# Transform the customers dataset\n",
    "customers_pca_175 = pca_175.transform(customers)\n",
    "customers_clusters = kmeans.predict(customers_pca_175)"
   ]
  },
  {
   "cell_type": "code",
   "execution_count": 38,
   "id": "f979ccf3",
   "metadata": {},
   "outputs": [],
   "source": [
    "# Let's free up some space:\n",
    "azdias = None\n",
    "customers = None"
   ]
  },
  {
   "cell_type": "markdown",
   "id": "5524d2df",
   "metadata": {},
   "source": [
    "Now, let's compare how each population (general vs customers) is distributed within those clusters."
   ]
  },
  {
   "cell_type": "code",
   "execution_count": 39,
   "id": "a66530c5",
   "metadata": {},
   "outputs": [],
   "source": [
    "customers_clusters = pd.Series(customers_clusters)\n",
    "azdias_clusters = pd.Series(azdias_clusters)"
   ]
  },
  {
   "cell_type": "code",
   "execution_count": 40,
   "id": "b22736c5",
   "metadata": {},
   "outputs": [
    {
     "data": {
      "text/html": [
       "<div>\n",
       "<style scoped>\n",
       "    .dataframe tbody tr th:only-of-type {\n",
       "        vertical-align: middle;\n",
       "    }\n",
       "\n",
       "    .dataframe tbody tr th {\n",
       "        vertical-align: top;\n",
       "    }\n",
       "\n",
       "    .dataframe thead th {\n",
       "        text-align: right;\n",
       "    }\n",
       "</style>\n",
       "<table border=\"1\" class=\"dataframe\">\n",
       "  <thead>\n",
       "    <tr style=\"text-align: right;\">\n",
       "      <th></th>\n",
       "      <th>Cluster</th>\n",
       "      <th>Population</th>\n",
       "      <th>Customers</th>\n",
       "    </tr>\n",
       "  </thead>\n",
       "  <tbody>\n",
       "    <tr>\n",
       "      <th>0</th>\n",
       "      <td>0</td>\n",
       "      <td>65473</td>\n",
       "      <td>4482</td>\n",
       "    </tr>\n",
       "    <tr>\n",
       "      <th>1</th>\n",
       "      <td>1</td>\n",
       "      <td>96312</td>\n",
       "      <td>16115</td>\n",
       "    </tr>\n",
       "    <tr>\n",
       "      <th>2</th>\n",
       "      <td>2</td>\n",
       "      <td>68979</td>\n",
       "      <td>3319</td>\n",
       "    </tr>\n",
       "    <tr>\n",
       "      <th>3</th>\n",
       "      <td>3</td>\n",
       "      <td>69896</td>\n",
       "      <td>29690</td>\n",
       "    </tr>\n",
       "    <tr>\n",
       "      <th>4</th>\n",
       "      <td>4</td>\n",
       "      <td>89889</td>\n",
       "      <td>2247</td>\n",
       "    </tr>\n",
       "    <tr>\n",
       "      <th>5</th>\n",
       "      <td>5</td>\n",
       "      <td>116153</td>\n",
       "      <td>38960</td>\n",
       "    </tr>\n",
       "    <tr>\n",
       "      <th>6</th>\n",
       "      <td>6</td>\n",
       "      <td>117725</td>\n",
       "      <td>38176</td>\n",
       "    </tr>\n",
       "    <tr>\n",
       "      <th>7</th>\n",
       "      <td>7</td>\n",
       "      <td>112861</td>\n",
       "      <td>1257</td>\n",
       "    </tr>\n",
       "  </tbody>\n",
       "</table>\n",
       "</div>"
      ],
      "text/plain": [
       "   Cluster  Population  Customers\n",
       "0        0       65473       4482\n",
       "1        1       96312      16115\n",
       "2        2       68979       3319\n",
       "3        3       69896      29690\n",
       "4        4       89889       2247\n",
       "5        5      116153      38960\n",
       "6        6      117725      38176\n",
       "7        7      112861       1257"
      ]
     },
     "execution_count": 40,
     "metadata": {},
     "output_type": "execute_result"
    }
   ],
   "source": [
    "# Merge cluster data\n",
    "\n",
    "cluster_info = pd.DataFrame([])\n",
    "\n",
    "cluster_info[\"Population\"] = azdias_clusters.value_counts().sort_index()\n",
    "cluster_info[\"Customers\"] = customers_clusters.value_counts().sort_index()\n",
    "cluster_info.reset_index(inplace=True)\n",
    "cluster_info.rename(columns={\"index\":\"Cluster\"}, inplace=True)\n",
    "cluster_info"
   ]
  },
  {
   "cell_type": "code",
   "execution_count": 41,
   "id": "985bae4e",
   "metadata": {},
   "outputs": [],
   "source": [
    "# Add proportion information\n",
    "cluster_info[\"Pop_proportion\"] = (cluster_info[\"Population\"]/cluster_info[\"Population\"].sum()*100).round(2)\n",
    "cluster_info[\"Cust_proportion\"] = (cluster_info[\"Customers\"]/cluster_info[\"Customers\"].sum()*100).round(2)"
   ]
  },
  {
   "cell_type": "code",
   "execution_count": 45,
   "id": "beb4bfa2",
   "metadata": {},
   "outputs": [
    {
     "data": {
      "image/png": "[encoded data removed]",
      "text/plain": [
       "<Figure size 1152x432 with 1 Axes>"
      ]
     },
     "metadata": {
      "needs_background": "light"
     },
     "output_type": "display_data"
    }
   ],
   "source": [
    "# Plot clusters \n",
    "fig, ax = plt.subplots(figsize=(16,6))\n",
    "\n",
    "ind = np.arange(8)    # the x locations for the groups\n",
    "width = 0.35         # the width of the bars\n",
    "\n",
    "p1 = ax.bar(ind, cluster_info[\"Pop_proportion\"], width, bottom=0)\n",
    "p2 = ax.bar(ind + width, cluster_info[\"Cust_proportion\"], width, bottom=0)\n",
    "\n",
    "ax.set_title('Share of clusters in Population vs Customers dataset')\n",
    "ax.set_ylabel('Share of total (%)')\n",
    "ax.set_xlabel('Cluster')\n",
    "\n",
    "ax.set_xticks(ind + width / 2)\n",
    "ax.set_xticklabels([1,2,3,4,5,6,7,8])\n",
    "ax.legend((p1[0], p2[0]), ('Population', 'Customers'))\n",
    "ax.autoscale_view()"
   ]
  },
  {
   "cell_type": "markdown",
   "id": "52c4d675",
   "metadata": {},
   "source": [
    "The plot shows how clusters are distributed across both datasets. Clusters are equally spread across the general population and show only small differences in size. This can be expected from dataset that represents the general population very well.\n",
    "\n",
    "In contrast, the customers dataset has a large imbalance across clusters. Cluster 4, 6 and 7 stand out specifically: ~75% of customers are mapped within those 3 clusters."
   ]
  },
  {
   "cell_type": "markdown",
   "id": "ca06578e",
   "metadata": {},
   "source": [
    "### Cluster makeup\n",
    "Now that we know into wich clusters the customers tend to fall into, let's try to understand what they represent.   \n",
    "Let's see which pca component influences a given cluster most."
   ]
  },
  {
   "cell_type": "code",
   "execution_count": 54,
   "id": "395fbfe9",
   "metadata": {},
   "outputs": [
    {
     "name": "stdout",
     "output_type": "stream",
     "text": [
      "(8, 175)\n"
     ]
    }
   ],
   "source": [
    "kmeans_model_params = kmeans.cluster_centers_\n",
    "print(kmeans_model_params.shape)"
   ]
  },
  {
   "cell_type": "markdown",
   "id": "6b81bcc5",
   "metadata": {},
   "source": [
    "### Cluster 4"
   ]
  },
  {
   "cell_type": "code",
   "execution_count": 62,
   "id": "ad71f160",
   "metadata": {},
   "outputs": [
    {
     "data": {
      "text/plain": [
       "2     5.732256\n",
       "0     1.706421\n",
       "3     1.569234\n",
       "4     1.314766\n",
       "6     0.730275\n",
       "        ...   \n",
       "16   -0.221651\n",
       "27   -0.274496\n",
       "8    -0.651524\n",
       "11   -0.664646\n",
       "1    -4.224392\n",
       "Length: 175, dtype: float64"
      ]
     },
     "execution_count": 62,
     "metadata": {},
     "output_type": "execute_result"
    }
   ],
   "source": [
    "centroid_4 = pd.Series(kmeans_model_params[3])\n",
    "centroid_4.sort_values(ascending=False, inplace=True, ignore_index=False)\n",
    "centroid_4"
   ]
  },
  {
   "cell_type": "markdown",
   "id": "cbc2fd1a",
   "metadata": {},
   "source": [
    "This cluster is higly correlated to component 3 and higly negatively correlated to component 2.   \n",
    "Using the interpretation we made earlier of the principal components, we could say that this cluster:\n",
    "- Has a high positive weights towards the share of BMW & MERCEDES (KBA13_HERST_BMW_BENZ).\n",
    "- Has a negative weight to features that have information about lower class cars's share (KBA13_SEG_KLEINWAGEN).\n",
    "- Has a high **negative** weight towards online activity (ONLINE_AFFINITAET). "
   ]
  },
  {
   "cell_type": "markdown",
   "id": "13d154bc",
   "metadata": {},
   "source": [
    "### Cluster 6"
   ]
  },
  {
   "cell_type": "code",
   "execution_count": 65,
   "id": "ce2896ef",
   "metadata": {},
   "outputs": [
    {
     "data": {
      "text/plain": [
       "0     3.601203\n",
       "11    0.400636\n",
       "5     0.295437\n",
       "35    0.195938\n",
       "25    0.159088\n",
       "        ...   \n",
       "6    -0.369296\n",
       "9    -0.429048\n",
       "4    -0.574269\n",
       "2    -2.860756\n",
       "1    -4.152590\n",
       "Length: 175, dtype: float64"
      ]
     },
     "execution_count": 65,
     "metadata": {},
     "output_type": "execute_result"
    }
   ],
   "source": [
    "centroid_6 = pd.Series(kmeans_model_params[5])\n",
    "centroid_6.sort_values(ascending=False, inplace=True, ignore_index=False)\n",
    "centroid_6"
   ]
  },
  {
   "cell_type": "markdown",
   "id": "169bc56a",
   "metadata": {},
   "source": [
    "This cluster is higly correlated to component 1 and higly negatively correlated to component 2.   \n",
    "Using the interpretation we made earlier of the principal components, we could say that this cluster:\n",
    "- Has a high positive weight to moving patterns (MOBI_REGIO).\n",
    "- Has a high weight to number of 1-2 family houses in the neighbourhood and a negative weight to number of 6-10 family houses (respectively PLZ8_ANTG1 and PLZ8_ANTG3).\n",
    "- Has a high **negative** weight towards online activity (ONLINE_AFFINITAET). "
   ]
  },
  {
   "cell_type": "markdown",
   "id": "0f7f6168",
   "metadata": {},
   "source": [
    "### Cluster 7"
   ]
  },
  {
   "cell_type": "code",
   "execution_count": 66,
   "id": "5ef28e99",
   "metadata": {},
   "outputs": [
    {
     "data": {
      "text/plain": [
       "0     7.793665\n",
       "1     3.339253\n",
       "3     0.755275\n",
       "30    0.188343\n",
       "2     0.185833\n",
       "        ...   \n",
       "6    -0.239672\n",
       "10   -0.283906\n",
       "35   -0.296696\n",
       "9    -0.308310\n",
       "4    -0.350785\n",
       "Length: 175, dtype: float64"
      ]
     },
     "execution_count": 66,
     "metadata": {},
     "output_type": "execute_result"
    }
   ],
   "source": [
    "centroid_7 = pd.Series(kmeans_model_params[6])\n",
    "centroid_7.sort_values(ascending=False, inplace=True, ignore_index=False)\n",
    "centroid_7"
   ]
  },
  {
   "cell_type": "markdown",
   "id": "4677b19c",
   "metadata": {},
   "source": [
    "This cluster is higly correlated to component 1.   \n",
    "Using the interpretation we made earlier of the principal components, we could say that this cluster:\n",
    "- Has a high positive weight to moving patterns (MOBI_REGIO).\n",
    "- Has a high weight to number of 1-2 family houses in the neighbourhood and a negative weight to number of 6-10 family houses (respectively PLZ8_ANTG1 and PLZ8_ANTG3).\n"
   ]
  },
  {
   "cell_type": "markdown",
   "id": "6483c0fc",
   "metadata": {},
   "source": [
    "### Little summary\n",
    "As a summary, features which seems to defined whether an individual could be a customer are:\n",
    "- Moving patterns - MOBI_REGIO (positively correlated).\n",
    "- The share of BMW & MERCEDES - KBA13_HERST_BMW_BENZ (positively correlated).\n",
    "- Online activity - ONLINE_AFFINITAET (negatively correlated).\n",
    "\n",
    "A deeper analyse could help understand in details what kind of people constitute each cluster. This would help understand the existing customers and their behaviour according to demographics data.\n",
    "\n",
    "However, that information won't be useful in the creation and training of a prediction model. \n"
   ]
  }
 ],
 "metadata": {
  "kernelspec": {
   "display_name": "conda_pytorch_p36",
   "language": "python",
   "name": "conda_pytorch_p36"
  },
  "language_info": {
   "codemirror_mode": {
    "name": "ipython",
    "version": 3
   },
   "file_extension": ".py",
   "mimetype": "text/x-python",
   "name": "python",
   "nbconvert_exporter": "python",
   "pygments_lexer": "ipython3",
   "version": "3.6.13"
  }
 },
 "nbformat": 4,
 "nbformat_minor": 5
}
